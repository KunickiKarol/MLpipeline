{
 "cells": [
  {
   "cell_type": "code",
   "execution_count": 1,
   "id": "a18370ce",
   "metadata": {
    "execution": {
     "iopub.execute_input": "2023-04-13T10:29:03.718684Z",
     "iopub.status.busy": "2023-04-13T10:29:03.718461Z",
     "iopub.status.idle": "2023-04-13T10:29:05.429780Z",
     "shell.execute_reply": "2023-04-13T10:29:05.429209Z"
    },
    "papermill": {
     "duration": 1.718735,
     "end_time": "2023-04-13T10:29:05.431179",
     "exception": false,
     "start_time": "2023-04-13T10:29:03.712444",
     "status": "completed"
    },
    "tags": []
   },
   "outputs": [],
   "source": [
    "import os\n",
    "import pandas as pd\n",
    "import seaborn as sns\n",
    "from sklearn.dummy import DummyClassifier\n",
    "from sklearn.metrics import f1_score\n",
    "import matplotlib.pyplot as plt\n",
    "from sklearn.preprocessing import StandardScaler\n",
    "import dvc.api\n",
    "import numpy as np\n",
    "from sklearn.decomposition import PCA\n",
    "from sklearn.impute import KNNImputer\n",
    "params = dvc.api.params_show()\n",
    "\n",
    "start_file = params['processing']['target_file']\n",
    "\n",
    "\n",
    "df_all = pd.read_json(start_file, lines=True)\n",
    "df_all['reviewTextLength'] = df_all['reviewText'].astype(str).apply(len)\n",
    "df_all['numbers_amount'] = df_all['reviewText'].str.count(r'\\d+')"
   ]
  },
  {
   "cell_type": "code",
   "execution_count": 2,
   "id": "2bae76cd",
   "metadata": {
    "execution": {
     "iopub.execute_input": "2023-04-13T10:29:05.438604Z",
     "iopub.status.busy": "2023-04-13T10:29:05.438391Z",
     "iopub.status.idle": "2023-04-13T10:29:05.444634Z",
     "shell.execute_reply": "2023-04-13T10:29:05.444254Z"
    },
    "papermill": {
     "duration": 0.011067,
     "end_time": "2023-04-13T10:29:05.445672",
     "exception": false,
     "start_time": "2023-04-13T10:29:05.434605",
     "status": "completed"
    },
    "tags": []
   },
   "outputs": [
    {
     "name": "stdout",
     "output_type": "stream",
     "text": [
      "Liczba klas:"
     ]
    },
    {
     "name": "stdout",
     "output_type": "stream",
     "text": [
      " "
     ]
    },
    {
     "name": "stdout",
     "output_type": "stream",
     "text": [
      "5"
     ]
    },
    {
     "name": "stdout",
     "output_type": "stream",
     "text": [
      "\n"
     ]
    },
    {
     "name": "stdout",
     "output_type": "stream",
     "text": [
      "5    14391\n",
      "4     4041\n",
      "3     2465\n",
      "1     1741\n",
      "2      889\n",
      "Name: overall, dtype: int64"
     ]
    },
    {
     "name": "stdout",
     "output_type": "stream",
     "text": [
      "\n"
     ]
    }
   ],
   "source": [
    "print('Liczba klas:', df_all['overall'].nunique())\n",
    "class_counts = df_all['overall'].value_counts()\n",
    "print(class_counts)"
   ]
  },
  {
   "cell_type": "code",
   "execution_count": 3,
   "id": "34ea09a1",
   "metadata": {
    "execution": {
     "iopub.execute_input": "2023-04-13T10:29:05.454143Z",
     "iopub.status.busy": "2023-04-13T10:29:05.453953Z",
     "iopub.status.idle": "2023-04-13T10:29:05.459799Z",
     "shell.execute_reply": "2023-04-13T10:29:05.459414Z"
    },
    "papermill": {
     "duration": 0.011804,
     "end_time": "2023-04-13T10:29:05.460914",
     "exception": false,
     "start_time": "2023-04-13T10:29:05.449110",
     "status": "completed"
    },
    "tags": []
   },
   "outputs": [
    {
     "name": "stdout",
     "output_type": "stream",
     "text": [
      "Skala Overall od"
     ]
    },
    {
     "name": "stdout",
     "output_type": "stream",
     "text": [
      " "
     ]
    },
    {
     "name": "stdout",
     "output_type": "stream",
     "text": [
      "1"
     ]
    },
    {
     "name": "stdout",
     "output_type": "stream",
     "text": [
      " "
     ]
    },
    {
     "name": "stdout",
     "output_type": "stream",
     "text": [
      "do"
     ]
    },
    {
     "name": "stdout",
     "output_type": "stream",
     "text": [
      " "
     ]
    },
    {
     "name": "stdout",
     "output_type": "stream",
     "text": [
      "5"
     ]
    },
    {
     "name": "stdout",
     "output_type": "stream",
     "text": [
      "\n"
     ]
    }
   ],
   "source": [
    "max_value = df_all['overall'].max()\n",
    "min_value = df_all['overall'].min()\n",
    "print('Skala Overall od', min_value,'do', max_value)"
   ]
  },
  {
   "cell_type": "code",
   "execution_count": 4,
   "id": "902bf47a",
   "metadata": {
    "execution": {
     "iopub.execute_input": "2023-04-13T10:29:05.468830Z",
     "iopub.status.busy": "2023-04-13T10:29:05.468643Z",
     "iopub.status.idle": "2023-04-13T10:29:05.474364Z",
     "shell.execute_reply": "2023-04-13T10:29:05.473874Z"
    },
    "papermill": {
     "duration": 0.010926,
     "end_time": "2023-04-13T10:29:05.475433",
     "exception": false,
     "start_time": "2023-04-13T10:29:05.464507",
     "status": "completed"
    },
    "tags": []
   },
   "outputs": [
    {
     "data": {
      "text/plain": [
       "overall               int64\n",
       "verified               bool\n",
       "reviewTime           object\n",
       "reviewerID           object\n",
       "asin                 object\n",
       "style                object\n",
       "reviewerName         object\n",
       "reviewText           object\n",
       "summary              object\n",
       "unixReviewTime        int64\n",
       "vote                 object\n",
       "image                object\n",
       "data_origin          object\n",
       "reviewTextLength      int64\n",
       "numbers_amount      float64\n",
       "dtype: object"
      ]
     },
     "execution_count": 4,
     "metadata": {},
     "output_type": "execute_result"
    }
   ],
   "source": [
    "df_all.dtypes"
   ]
  },
  {
   "cell_type": "code",
   "execution_count": 5,
   "id": "e71791fd",
   "metadata": {
    "execution": {
     "iopub.execute_input": "2023-04-13T10:29:05.483412Z",
     "iopub.status.busy": "2023-04-13T10:29:05.483244Z",
     "iopub.status.idle": "2023-04-13T10:29:05.494821Z",
     "shell.execute_reply": "2023-04-13T10:29:05.494233Z"
    },
    "papermill": {
     "duration": 0.017095,
     "end_time": "2023-04-13T10:29:05.496148",
     "exception": false,
     "start_time": "2023-04-13T10:29:05.479053",
     "status": "completed"
    },
    "tags": []
   },
   "outputs": [
    {
     "data": {
      "text/html": [
       "<div>\n",
       "<style scoped>\n",
       "    .dataframe tbody tr th:only-of-type {\n",
       "        vertical-align: middle;\n",
       "    }\n",
       "\n",
       "    .dataframe tbody tr th {\n",
       "        vertical-align: top;\n",
       "    }\n",
       "\n",
       "    .dataframe thead th {\n",
       "        text-align: right;\n",
       "    }\n",
       "</style>\n",
       "<table border=\"1\" class=\"dataframe\">\n",
       "  <thead>\n",
       "    <tr style=\"text-align: right;\">\n",
       "      <th></th>\n",
       "      <th>overall</th>\n",
       "      <th>verified</th>\n",
       "      <th>reviewTime</th>\n",
       "      <th>reviewerID</th>\n",
       "      <th>asin</th>\n",
       "      <th>style</th>\n",
       "      <th>reviewerName</th>\n",
       "      <th>reviewText</th>\n",
       "      <th>summary</th>\n",
       "      <th>unixReviewTime</th>\n",
       "      <th>vote</th>\n",
       "      <th>image</th>\n",
       "      <th>data_origin</th>\n",
       "      <th>reviewTextLength</th>\n",
       "      <th>numbers_amount</th>\n",
       "    </tr>\n",
       "  </thead>\n",
       "  <tbody>\n",
       "    <tr>\n",
       "      <th>0</th>\n",
       "      <td>5</td>\n",
       "      <td>True</td>\n",
       "      <td>09 1, 2016</td>\n",
       "      <td>A3CIUOJXQ5VDQ2</td>\n",
       "      <td>B0000530HU</td>\n",
       "      <td>{'Size:': ' 7.0 oz', 'Flavor:': ' Classic Ice ...</td>\n",
       "      <td>Shelly F</td>\n",
       "      <td>As advertised. Reasonably priced</td>\n",
       "      <td>Five Stars</td>\n",
       "      <td>1472688000</td>\n",
       "      <td>None</td>\n",
       "      <td>None</td>\n",
       "      <td>All_Beauty_5.json</td>\n",
       "      <td>32</td>\n",
       "      <td>0.0</td>\n",
       "    </tr>\n",
       "    <tr>\n",
       "      <th>1</th>\n",
       "      <td>5</td>\n",
       "      <td>True</td>\n",
       "      <td>11 14, 2013</td>\n",
       "      <td>A3H7T87S984REU</td>\n",
       "      <td>B0000530HU</td>\n",
       "      <td>{'Size:': ' 7.0 oz', 'Flavor:': ' Classic Ice ...</td>\n",
       "      <td>houserules18</td>\n",
       "      <td>Like the oder and the feel when I put it on my...</td>\n",
       "      <td>Good for the face</td>\n",
       "      <td>1384387200</td>\n",
       "      <td>None</td>\n",
       "      <td>None</td>\n",
       "      <td>All_Beauty_5.json</td>\n",
       "      <td>207</td>\n",
       "      <td>0.0</td>\n",
       "    </tr>\n",
       "    <tr>\n",
       "      <th>2</th>\n",
       "      <td>1</td>\n",
       "      <td>True</td>\n",
       "      <td>08 18, 2013</td>\n",
       "      <td>A3J034YH7UG4KT</td>\n",
       "      <td>B0000530HU</td>\n",
       "      <td>{'Size:': ' 7.0 oz', 'Flavor:': ' Classic Ice ...</td>\n",
       "      <td>Adam</td>\n",
       "      <td>I bought this to smell nice after I shave.  Wh...</td>\n",
       "      <td>Smells awful</td>\n",
       "      <td>1376784000</td>\n",
       "      <td>None</td>\n",
       "      <td>None</td>\n",
       "      <td>All_Beauty_5.json</td>\n",
       "      <td>142</td>\n",
       "      <td>1.0</td>\n",
       "    </tr>\n",
       "    <tr>\n",
       "      <th>3</th>\n",
       "      <td>5</td>\n",
       "      <td>False</td>\n",
       "      <td>05 3, 2011</td>\n",
       "      <td>A2UEO5XR3598GI</td>\n",
       "      <td>B0000530HU</td>\n",
       "      <td>{'Size:': ' 7.0 oz', 'Flavor:': ' Classic Ice ...</td>\n",
       "      <td>Rich K</td>\n",
       "      <td>HEY!! I am an Aqua Velva Man and absolutely lo...</td>\n",
       "      <td>Truth is There IS Nothing Like an AQUA VELVA MAN.</td>\n",
       "      <td>1304380800</td>\n",
       "      <td>25</td>\n",
       "      <td>None</td>\n",
       "      <td>All_Beauty_5.json</td>\n",
       "      <td>1417</td>\n",
       "      <td>4.0</td>\n",
       "    </tr>\n",
       "    <tr>\n",
       "      <th>4</th>\n",
       "      <td>5</td>\n",
       "      <td>True</td>\n",
       "      <td>05 6, 2011</td>\n",
       "      <td>A3SFRT223XXWF7</td>\n",
       "      <td>B00006L9LC</td>\n",
       "      <td>{'Size:': ' 200ml/6.7oz'}</td>\n",
       "      <td>C. C. Christian</td>\n",
       "      <td>If you ever want to feel pampered by a shampoo...</td>\n",
       "      <td>Bvlgari Shampoo</td>\n",
       "      <td>1304640000</td>\n",
       "      <td>3</td>\n",
       "      <td>None</td>\n",
       "      <td>All_Beauty_5.json</td>\n",
       "      <td>237</td>\n",
       "      <td>0.0</td>\n",
       "    </tr>\n",
       "  </tbody>\n",
       "</table>\n",
       "</div>"
      ],
      "text/plain": [
       "   overall  verified   reviewTime      reviewerID        asin  \\\n",
       "0        5      True   09 1, 2016  A3CIUOJXQ5VDQ2  B0000530HU   \n",
       "1        5      True  11 14, 2013  A3H7T87S984REU  B0000530HU   \n",
       "2        1      True  08 18, 2013  A3J034YH7UG4KT  B0000530HU   \n",
       "3        5     False   05 3, 2011  A2UEO5XR3598GI  B0000530HU   \n",
       "4        5      True   05 6, 2011  A3SFRT223XXWF7  B00006L9LC   \n",
       "\n",
       "                                               style     reviewerName  \\\n",
       "0  {'Size:': ' 7.0 oz', 'Flavor:': ' Classic Ice ...         Shelly F   \n",
       "1  {'Size:': ' 7.0 oz', 'Flavor:': ' Classic Ice ...     houserules18   \n",
       "2  {'Size:': ' 7.0 oz', 'Flavor:': ' Classic Ice ...             Adam   \n",
       "3  {'Size:': ' 7.0 oz', 'Flavor:': ' Classic Ice ...           Rich K   \n",
       "4                          {'Size:': ' 200ml/6.7oz'}  C. C. Christian   \n",
       "\n",
       "                                          reviewText  \\\n",
       "0                   As advertised. Reasonably priced   \n",
       "1  Like the oder and the feel when I put it on my...   \n",
       "2  I bought this to smell nice after I shave.  Wh...   \n",
       "3  HEY!! I am an Aqua Velva Man and absolutely lo...   \n",
       "4  If you ever want to feel pampered by a shampoo...   \n",
       "\n",
       "                                             summary  unixReviewTime  vote  \\\n",
       "0                                         Five Stars      1472688000  None   \n",
       "1                                  Good for the face      1384387200  None   \n",
       "2                                       Smells awful      1376784000  None   \n",
       "3  Truth is There IS Nothing Like an AQUA VELVA MAN.      1304380800    25   \n",
       "4                                    Bvlgari Shampoo      1304640000     3   \n",
       "\n",
       "  image        data_origin  reviewTextLength  numbers_amount  \n",
       "0  None  All_Beauty_5.json                32             0.0  \n",
       "1  None  All_Beauty_5.json               207             0.0  \n",
       "2  None  All_Beauty_5.json               142             1.0  \n",
       "3  None  All_Beauty_5.json              1417             4.0  \n",
       "4  None  All_Beauty_5.json               237             0.0  "
      ]
     },
     "execution_count": 5,
     "metadata": {},
     "output_type": "execute_result"
    }
   ],
   "source": [
    "df_all.head()"
   ]
  },
  {
   "cell_type": "markdown",
   "id": "1f052b14",
   "metadata": {
    "papermill": {
     "duration": 0.004842,
     "end_time": "2023-04-13T10:29:05.505687",
     "exception": false,
     "start_time": "2023-04-13T10:29:05.500845",
     "status": "completed"
    },
    "tags": []
   },
   "source": [
    "Atrybuty verified , reviewerId, asin, reviewerName, data_origin (łącznie 5) są to zmienna kategoryczna"
   ]
  },
  {
   "cell_type": "markdown",
   "id": "e9975ac5",
   "metadata": {
    "papermill": {
     "duration": 0.004202,
     "end_time": "2023-04-13T10:29:05.514852",
     "exception": false,
     "start_time": "2023-04-13T10:29:05.510650",
     "status": "completed"
    },
    "tags": []
   },
   "source": [
    "Atrybuty reviewTime, unixReviewTime, vote, reviewTextLength, numbers_amount (łacznie 5) są to zmienna numeryczne"
   ]
  },
  {
   "cell_type": "markdown",
   "id": "fa9406f9",
   "metadata": {
    "papermill": {
     "duration": 0.00362,
     "end_time": "2023-04-13T10:29:05.522090",
     "exception": false,
     "start_time": "2023-04-13T10:29:05.518470",
     "status": "completed"
    },
    "tags": []
   },
   "source": [
    "Oprócz tego mamy adres URL (image), z którego może zostać pobrany obraz o różnym rozmiarze. Zdjęcia zawierają zdjęcia produktu od recenzującego."
   ]
  },
  {
   "cell_type": "markdown",
   "id": "e2e5ffe8",
   "metadata": {
    "papermill": {
     "duration": 0.003775,
     "end_time": "2023-04-13T10:29:05.529459",
     "exception": false,
     "start_time": "2023-04-13T10:29:05.525684",
     "status": "completed"
    },
    "tags": []
   },
   "source": [
    "Dodatokw atrybut style przechowuje słownik mogący rozbudować atrybuty jednak wynikałoby z tego pojawienie się wielu NaN, oraz trudno porównać rozmiar szamponu i ubrania\n"
   ]
  },
  {
   "cell_type": "markdown",
   "id": "65f5b854",
   "metadata": {
    "papermill": {
     "duration": 0.003585,
     "end_time": "2023-04-13T10:29:05.536844",
     "exception": false,
     "start_time": "2023-04-13T10:29:05.533259",
     "status": "completed"
    },
    "tags": []
   },
   "source": [
    "Zmienna wyjściowa można interpretować jako zmienną numeryczną co może pomóc w szukaniu korelacji jednak nie jest to preferowane. Jest to zmienna dyskretna, która może przyjąć jedną z kilku wartości/ kategori. Ludzie nie myślą o produkcie 2/5 jako o dwa razy gorszym od 4/5. Ludzie mają wyuczone pewne interpretacje ocen w typowych skaklach oceniania (1-5, 1-10), które interpretują raczej w sposób opisowy. W jakijś książce czytałem, że przeskalowanie takich skal na dziwne skale np. od 47-73 całkowicie zaburzało postrzeganie oceny. Zaczęto otrzymywać odmienne rozkłady etc."
   ]
  },
  {
   "cell_type": "code",
   "execution_count": 6,
   "id": "fa9a7cc5",
   "metadata": {
    "execution": {
     "iopub.execute_input": "2023-04-13T10:29:05.545319Z",
     "iopub.status.busy": "2023-04-13T10:29:05.545100Z",
     "iopub.status.idle": "2023-04-13T10:29:05.582581Z",
     "shell.execute_reply": "2023-04-13T10:29:05.582091Z"
    },
    "papermill": {
     "duration": 0.043147,
     "end_time": "2023-04-13T10:29:05.583816",
     "exception": false,
     "start_time": "2023-04-13T10:29:05.540669",
     "status": "completed"
    },
    "tags": []
   },
   "outputs": [
    {
     "name": "stdout",
     "output_type": "stream",
     "text": [
      "procent brakujących wartośći"
     ]
    },
    {
     "name": "stdout",
     "output_type": "stream",
     "text": [
      "\n"
     ]
    },
    {
     "name": "stdout",
     "output_type": "stream",
     "text": [
      "image               95.311769\n",
      "vote                70.990777\n",
      "style               36.540995\n",
      "reviewText           0.093510\n",
      "numbers_amount       0.093510\n",
      "summary              0.046755\n",
      "reviewerName         0.038254\n",
      "overall              0.000000\n",
      "verified             0.000000\n",
      "reviewTime           0.000000\n",
      "reviewerID           0.000000\n",
      "asin                 0.000000\n",
      "unixReviewTime       0.000000\n",
      "data_origin          0.000000\n",
      "reviewTextLength     0.000000\n",
      "dtype: float64"
     ]
    },
    {
     "name": "stdout",
     "output_type": "stream",
     "text": [
      "\n"
     ]
    }
   ],
   "source": [
    "percent_na_counts = df_all.isna().sum() / len(df_all) * 100\n",
    "\n",
    "percent_na_counts = percent_na_counts.sort_values(ascending=False)\n",
    "print(\"procent brakujących wartośći\")\n",
    "print(percent_na_counts)"
   ]
  },
  {
   "cell_type": "code",
   "execution_count": 7,
   "id": "a0e114a3",
   "metadata": {
    "execution": {
     "iopub.execute_input": "2023-04-13T10:29:05.594279Z",
     "iopub.status.busy": "2023-04-13T10:29:05.594080Z",
     "iopub.status.idle": "2023-04-13T10:29:05.601928Z",
     "shell.execute_reply": "2023-04-13T10:29:05.601432Z"
    },
    "papermill": {
     "duration": 0.014345,
     "end_time": "2023-04-13T10:29:05.603170",
     "exception": false,
     "start_time": "2023-04-13T10:29:05.588825",
     "status": "completed"
    },
    "tags": []
   },
   "outputs": [
    {
     "data": {
      "text/html": [
       "<div>\n",
       "<style scoped>\n",
       "    .dataframe tbody tr th:only-of-type {\n",
       "        vertical-align: middle;\n",
       "    }\n",
       "\n",
       "    .dataframe tbody tr th {\n",
       "        vertical-align: top;\n",
       "    }\n",
       "\n",
       "    .dataframe thead th {\n",
       "        text-align: right;\n",
       "    }\n",
       "</style>\n",
       "<table border=\"1\" class=\"dataframe\">\n",
       "  <thead>\n",
       "    <tr style=\"text-align: right;\">\n",
       "      <th></th>\n",
       "      <th>overall</th>\n",
       "      <th>verified</th>\n",
       "      <th>reviewTime</th>\n",
       "      <th>reviewerID</th>\n",
       "      <th>asin</th>\n",
       "      <th>style</th>\n",
       "      <th>reviewerName</th>\n",
       "      <th>reviewText</th>\n",
       "      <th>summary</th>\n",
       "      <th>unixReviewTime</th>\n",
       "      <th>vote</th>\n",
       "      <th>image</th>\n",
       "      <th>data_origin</th>\n",
       "      <th>reviewTextLength</th>\n",
       "      <th>numbers_amount</th>\n",
       "    </tr>\n",
       "  </thead>\n",
       "  <tbody>\n",
       "  </tbody>\n",
       "</table>\n",
       "</div>"
      ],
      "text/plain": [
       "Empty DataFrame\n",
       "Columns: [overall, verified, reviewTime, reviewerID, asin, style, reviewerName, reviewText, summary, unixReviewTime, vote, image, data_origin, reviewTextLength, numbers_amount]\n",
       "Index: []"
      ]
     },
     "execution_count": 7,
     "metadata": {},
     "output_type": "execute_result"
    }
   ],
   "source": [
    "df_all.loc[df_all['vote'] == '0'].head(1)"
   ]
  },
  {
   "cell_type": "code",
   "execution_count": 8,
   "id": "f8634b7d",
   "metadata": {
    "execution": {
     "iopub.execute_input": "2023-04-13T10:29:05.612828Z",
     "iopub.status.busy": "2023-04-13T10:29:05.612652Z",
     "iopub.status.idle": "2023-04-13T10:29:05.619608Z",
     "shell.execute_reply": "2023-04-13T10:29:05.619131Z"
    },
    "papermill": {
     "duration": 0.012684,
     "end_time": "2023-04-13T10:29:05.620651",
     "exception": false,
     "start_time": "2023-04-13T10:29:05.607967",
     "status": "completed"
    },
    "tags": []
   },
   "outputs": [
    {
     "data": {
      "text/html": [
       "<div>\n",
       "<style scoped>\n",
       "    .dataframe tbody tr th:only-of-type {\n",
       "        vertical-align: middle;\n",
       "    }\n",
       "\n",
       "    .dataframe tbody tr th {\n",
       "        vertical-align: top;\n",
       "    }\n",
       "\n",
       "    .dataframe thead th {\n",
       "        text-align: right;\n",
       "    }\n",
       "</style>\n",
       "<table border=\"1\" class=\"dataframe\">\n",
       "  <thead>\n",
       "    <tr style=\"text-align: right;\">\n",
       "      <th></th>\n",
       "      <th>overall</th>\n",
       "      <th>verified</th>\n",
       "      <th>reviewTime</th>\n",
       "      <th>reviewerID</th>\n",
       "      <th>asin</th>\n",
       "      <th>style</th>\n",
       "      <th>reviewerName</th>\n",
       "      <th>reviewText</th>\n",
       "      <th>summary</th>\n",
       "      <th>unixReviewTime</th>\n",
       "      <th>vote</th>\n",
       "      <th>image</th>\n",
       "      <th>data_origin</th>\n",
       "      <th>reviewTextLength</th>\n",
       "      <th>numbers_amount</th>\n",
       "    </tr>\n",
       "  </thead>\n",
       "  <tbody>\n",
       "  </tbody>\n",
       "</table>\n",
       "</div>"
      ],
      "text/plain": [
       "Empty DataFrame\n",
       "Columns: [overall, verified, reviewTime, reviewerID, asin, style, reviewerName, reviewText, summary, unixReviewTime, vote, image, data_origin, reviewTextLength, numbers_amount]\n",
       "Index: []"
      ]
     },
     "execution_count": 8,
     "metadata": {},
     "output_type": "execute_result"
    }
   ],
   "source": [
    "df_all.loc[df_all['vote'] == '1'].head(1)"
   ]
  },
  {
   "cell_type": "code",
   "execution_count": 9,
   "id": "690f119e",
   "metadata": {
    "execution": {
     "iopub.execute_input": "2023-04-13T10:29:05.629706Z",
     "iopub.status.busy": "2023-04-13T10:29:05.629534Z",
     "iopub.status.idle": "2023-04-13T10:29:05.636824Z",
     "shell.execute_reply": "2023-04-13T10:29:05.636352Z"
    },
    "papermill": {
     "duration": 0.013289,
     "end_time": "2023-04-13T10:29:05.638118",
     "exception": false,
     "start_time": "2023-04-13T10:29:05.624829",
     "status": "completed"
    },
    "tags": []
   },
   "outputs": [
    {
     "data": {
      "text/plain": [
       "False"
      ]
     },
     "execution_count": 9,
     "metadata": {},
     "output_type": "execute_result"
    }
   ],
   "source": [
    "(pd.to_numeric(df_all['vote'], errors='coerce') < 0).any()"
   ]
  },
  {
   "cell_type": "code",
   "execution_count": 10,
   "id": "8013d4fa",
   "metadata": {
    "execution": {
     "iopub.execute_input": "2023-04-13T10:29:05.648691Z",
     "iopub.status.busy": "2023-04-13T10:29:05.648508Z",
     "iopub.status.idle": "2023-04-13T10:29:05.659669Z",
     "shell.execute_reply": "2023-04-13T10:29:05.659087Z"
    },
    "papermill": {
     "duration": 0.017452,
     "end_time": "2023-04-13T10:29:05.660719",
     "exception": false,
     "start_time": "2023-04-13T10:29:05.643267",
     "status": "completed"
    },
    "tags": []
   },
   "outputs": [
    {
     "data": {
      "text/html": [
       "<div>\n",
       "<style scoped>\n",
       "    .dataframe tbody tr th:only-of-type {\n",
       "        vertical-align: middle;\n",
       "    }\n",
       "\n",
       "    .dataframe tbody tr th {\n",
       "        vertical-align: top;\n",
       "    }\n",
       "\n",
       "    .dataframe thead th {\n",
       "        text-align: right;\n",
       "    }\n",
       "</style>\n",
       "<table border=\"1\" class=\"dataframe\">\n",
       "  <thead>\n",
       "    <tr style=\"text-align: right;\">\n",
       "      <th></th>\n",
       "      <th>overall</th>\n",
       "      <th>verified</th>\n",
       "      <th>reviewTime</th>\n",
       "      <th>reviewerID</th>\n",
       "      <th>asin</th>\n",
       "      <th>style</th>\n",
       "      <th>reviewerName</th>\n",
       "      <th>reviewText</th>\n",
       "      <th>summary</th>\n",
       "      <th>unixReviewTime</th>\n",
       "      <th>vote</th>\n",
       "      <th>image</th>\n",
       "      <th>data_origin</th>\n",
       "      <th>reviewTextLength</th>\n",
       "      <th>numbers_amount</th>\n",
       "    </tr>\n",
       "  </thead>\n",
       "  <tbody>\n",
       "    <tr>\n",
       "      <th>26</th>\n",
       "      <td>1</td>\n",
       "      <td>True</td>\n",
       "      <td>04 13, 2018</td>\n",
       "      <td>A2M1OW141Y5WSN</td>\n",
       "      <td>B00006L9LC</td>\n",
       "      <td>{'Size:': ' Small'}</td>\n",
       "      <td>Vinny</td>\n",
       "      <td>Selenium appeared in my search results when I ...</td>\n",
       "      <td>I was super excited to see the 5 star review</td>\n",
       "      <td>1523577600</td>\n",
       "      <td>2</td>\n",
       "      <td>None</td>\n",
       "      <td>All_Beauty_5.json</td>\n",
       "      <td>438</td>\n",
       "      <td>3.0</td>\n",
       "    </tr>\n",
       "  </tbody>\n",
       "</table>\n",
       "</div>"
      ],
      "text/plain": [
       "    overall  verified   reviewTime      reviewerID        asin  \\\n",
       "26        1      True  04 13, 2018  A2M1OW141Y5WSN  B00006L9LC   \n",
       "\n",
       "                  style reviewerName  \\\n",
       "26  {'Size:': ' Small'}        Vinny   \n",
       "\n",
       "                                           reviewText  \\\n",
       "26  Selenium appeared in my search results when I ...   \n",
       "\n",
       "                                         summary  unixReviewTime vote image  \\\n",
       "26  I was super excited to see the 5 star review      1523577600    2  None   \n",
       "\n",
       "          data_origin  reviewTextLength  numbers_amount  \n",
       "26  All_Beauty_5.json               438             3.0  "
      ]
     },
     "execution_count": 10,
     "metadata": {},
     "output_type": "execute_result"
    }
   ],
   "source": [
    "#dopiero teraz isteniją rekordy z vote\n",
    "df_all.loc[df_all['vote'] == '2'].head(1)"
   ]
  },
  {
   "cell_type": "markdown",
   "id": "b740e2c0",
   "metadata": {
    "papermill": {
     "duration": 0.005164,
     "end_time": "2023-04-13T10:29:05.671135",
     "exception": false,
     "start_time": "2023-04-13T10:29:05.665971",
     "status": "completed"
    },
    "tags": []
   },
   "source": [
    "Obrazki są dołączone tylko do 5% rekordów. Dodatkowym pytaniem jest ile z tych linków jest działających <br>\n",
    "Tylko 30% rekordów posiada \"vote\" możliwe, że, gdy vote = 0 było jednoznaczne z wpisaniem NaN, ponieważ brakuje wartośći 0. Brakuje jednak także wartośći 1, które zapewne też byłby liczne co utrudnia potwierdzenie tej hipotezy <br> Wydaje się niemożliwym uzupełnienie braków reviewText. Na szczęśnie jest ich niewiele. Można byłoby skupić się na badaniu summary, ponieważ jest ich więcej nie zawierają jednak tyle potencjalnych informacji. <br>\n",
    "Braki w numbers_amount wynikają z braków w reviewText <br>\n",
    "Isteniją braki w reviewerName jednka teoretycznie powinna być funkcja 1-1, która zastąpiłaby je reviewerID"
   ]
  },
  {
   "cell_type": "code",
   "execution_count": 11,
   "id": "fe4501b8",
   "metadata": {
    "execution": {
     "iopub.execute_input": "2023-04-13T10:29:05.680979Z",
     "iopub.status.busy": "2023-04-13T10:29:05.680785Z",
     "iopub.status.idle": "2023-04-13T10:29:05.734936Z",
     "shell.execute_reply": "2023-04-13T10:29:05.734488Z"
    },
    "papermill": {
     "duration": 0.060186,
     "end_time": "2023-04-13T10:29:05.736000",
     "exception": false,
     "start_time": "2023-04-13T10:29:05.675814",
     "status": "completed"
    },
    "tags": []
   },
   "outputs": [
    {
     "name": "stdout",
     "output_type": "stream",
     "text": [
      "Ogólnie jest duplikatów:"
     ]
    },
    {
     "name": "stdout",
     "output_type": "stream",
     "text": [
      " "
     ]
    },
    {
     "name": "stdout",
     "output_type": "stream",
     "text": [
      "0.2"
     ]
    },
    {
     "name": "stdout",
     "output_type": "stream",
     "text": [
      " "
     ]
    },
    {
     "name": "stdout",
     "output_type": "stream",
     "text": [
      "%"
     ]
    },
    {
     "name": "stdout",
     "output_type": "stream",
     "text": [
      "\n"
     ]
    }
   ],
   "source": [
    "df_all_tmp = df_all.drop('style', axis=1)\n",
    "df_all_tmp = df_all_tmp.drop('image', axis=1)\n",
    "print(\"Ogólnie jest duplikatów:\", round((len(df_all_tmp) - len(df_all_tmp.drop_duplicates()))/len(df_all_tmp), 1), '%')"
   ]
  },
  {
   "cell_type": "markdown",
   "id": "191fca1c",
   "metadata": {
    "papermill": {
     "duration": 0.004664,
     "end_time": "2023-04-13T10:29:05.745552",
     "exception": false,
     "start_time": "2023-04-13T10:29:05.740888",
     "status": "completed"
    },
    "tags": []
   },
   "source": [
    "Możliwe, że pojawiają się obrazki jednym z dwóch duplikatów, albo dodatkowe informacje w style. Wymagalo dalszego zbadania"
   ]
  },
  {
   "cell_type": "code",
   "execution_count": 12,
   "id": "dfcd4626",
   "metadata": {
    "execution": {
     "iopub.execute_input": "2023-04-13T10:29:05.757527Z",
     "iopub.status.busy": "2023-04-13T10:29:05.757242Z",
     "iopub.status.idle": "2023-04-13T10:29:06.045906Z",
     "shell.execute_reply": "2023-04-13T10:29:06.045371Z"
    },
    "papermill": {
     "duration": 0.29658,
     "end_time": "2023-04-13T10:29:06.047013",
     "exception": false,
     "start_time": "2023-04-13T10:29:05.750433",
     "status": "completed"
    },
    "tags": []
   },
   "outputs": [
    {
     "data": {
      "text/plain": [
       "<Axes: >"
      ]
     },
     "execution_count": 12,
     "metadata": {},
     "output_type": "execute_result"
    },
    {
     "data": {
      "image/png": "[encoded data removed]",
      "text/plain": [
       "<Figure size 640x480 with 2 Axes>"
      ]
     },
     "metadata": {},
     "output_type": "display_data"
    }
   ],
   "source": [
    "selected_columns = ['overall', 'verified', 'unixReviewTime', 'reviewTextLength', 'numbers_amount', 'vote']\n",
    "df_all_tmp['vote'] = df_all_tmp['vote'].str.replace(',', '.').astype(float)\n",
    "df_all_numeric = df_all_tmp[selected_columns]\n",
    "df_all_numeric = df_all_numeric.drop_duplicates()\n",
    "corr = df_all_numeric.corr(numeric_only=False)\n",
    "\n",
    "sns.heatmap(corr, label=True, annot=True)"
   ]
  },
  {
   "cell_type": "markdown",
   "id": "f4dbe52a",
   "metadata": {
    "papermill": {
     "duration": 0.005375,
     "end_time": "2023-04-13T10:29:06.058410",
     "exception": false,
     "start_time": "2023-04-13T10:29:06.053035",
     "status": "completed"
    },
    "tags": []
   },
   "source": [
    "Wydaj 3 największe korelacje: <br>\n",
    "numbers_amount:reviewTextLenght - wydaje się logicznym, że tym dłuższy tekst tym więcej liczb tam będzie <br>\n",
    "verified:unixReviewTime -  wydaje się logicznym, że tym starsza ocena tym większa szansa na weryfikację. Tutaj jednka ty więszky timeStamp tym większa szansa na weryfikacje co może świadczyć, że dopiero od niedawna zaczęto weryfikować i stare oceny nie są weryfikowane już <br>\n",
    "verified:reviewTextLength - chętniej są weryfikowane krótkie teksty"
   ]
  },
  {
   "cell_type": "markdown",
   "id": "4ec2e9ee",
   "metadata": {
    "papermill": {
     "duration": 0.005108,
     "end_time": "2023-04-13T10:29:06.068642",
     "exception": false,
     "start_time": "2023-04-13T10:29:06.063534",
     "status": "completed"
    },
    "tags": []
   },
   "source": [
    "Overall nie ma wysokiej korelacji z jakąkolwiek zmienną. Największa korelacja overall:verified może świadczyć, że częściej weryfikowane są wyższe oceny"
   ]
  },
  {
   "cell_type": "code",
   "execution_count": 13,
   "id": "fc634bcf",
   "metadata": {
    "execution": {
     "iopub.execute_input": "2023-04-13T10:29:06.080108Z",
     "iopub.status.busy": "2023-04-13T10:29:06.079710Z",
     "iopub.status.idle": "2023-04-13T10:29:11.179218Z",
     "shell.execute_reply": "2023-04-13T10:29:11.178687Z"
    },
    "papermill": {
     "duration": 5.106617,
     "end_time": "2023-04-13T10:29:11.180339",
     "exception": false,
     "start_time": "2023-04-13T10:29:06.073722",
     "status": "completed"
    },
    "tags": []
   },
   "outputs": [
    {
     "data": {
      "image/png": "[encoded data removed]",
      "text/plain": [
       "<Figure size 640x480 with 1 Axes>"
      ]
     },
     "metadata": {},
     "output_type": "display_data"
    }
   ],
   "source": [
    "def standarize(df):\n",
    "    return StandardScaler().fit_transform(df.iloc[:,0:-1].values), df['overall'].values, df.columns\n",
    "\n",
    "df_all_numeric = df_all_numeric.drop_duplicates()\n",
    "imputer = KNNImputer(n_neighbors=5)\n",
    "df_all_numeric = pd.DataFrame(imputer.fit_transform(df_all_numeric),columns = df_all_numeric.columns)\n",
    "data_all_numeric_std = standarize(df_all_numeric)\n",
    "model = PCA(n_components=2)\n",
    "df_all_numeric_std = data_all_numeric_std[0]\n",
    "Y_pca = model.fit_transform(df_all_numeric_std)\n",
    "df_pca = pd.DataFrame(Y_pca, columns=('PCA1', \"PCA2\"))\n",
    "df_pca['class'] = data_all_numeric_std[1]\n",
    "sns.scatterplot(x=df_pca['PCA1'], y=df_pca['PCA2'], hue=df_pca['class'])\n",
    "plt.show()"
   ]
  },
  {
   "cell_type": "markdown",
   "id": "9b7a2b5a",
   "metadata": {
    "papermill": {
     "duration": 0.005671,
     "end_time": "2023-04-13T10:29:11.191937",
     "exception": false,
     "start_time": "2023-04-13T10:29:11.186266",
     "status": "completed"
    },
    "tags": []
   },
   "source": [
    "Same zmienne numeryczne, posiadają  pewien potencjał widać wyraźnie, że dla dwóch komponentów PCA można już rozróźniać dobre i złe oceny"
   ]
  },
  {
   "cell_type": "code",
   "execution_count": 14,
   "id": "9fa29ead",
   "metadata": {
    "execution": {
     "iopub.execute_input": "2023-04-13T10:29:11.203827Z",
     "iopub.status.busy": "2023-04-13T10:29:11.203627Z",
     "iopub.status.idle": "2023-04-13T10:29:11.380298Z",
     "shell.execute_reply": "2023-04-13T10:29:11.379786Z"
    },
    "papermill": {
     "duration": 0.18394,
     "end_time": "2023-04-13T10:29:11.381410",
     "exception": false,
     "start_time": "2023-04-13T10:29:11.197470",
     "status": "completed"
    },
    "tags": []
   },
   "outputs": [
    {
     "data": {
      "text/plain": [
       "<Axes: >"
      ]
     },
     "execution_count": 14,
     "metadata": {},
     "output_type": "execute_result"
    },
    {
     "data": {
      "image/png": "[encoded data removed]",
      "text/plain": [
       "<Figure size 640x480 with 1 Axes>"
      ]
     },
     "metadata": {},
     "output_type": "display_data"
    }
   ],
   "source": [
    "model_2 = PCA().fit(df_all_numeric_std)\n",
    "sns.lineplot(data=np.cumsum(model_2.explained_variance_ratio_))"
   ]
  },
  {
   "cell_type": "code",
   "execution_count": 15,
   "id": "f5aab3f0",
   "metadata": {
    "execution": {
     "iopub.execute_input": "2023-04-13T10:29:11.394224Z",
     "iopub.status.busy": "2023-04-13T10:29:11.394036Z",
     "iopub.status.idle": "2023-04-13T10:29:15.472482Z",
     "shell.execute_reply": "2023-04-13T10:29:15.471981Z"
    },
    "papermill": {
     "duration": 4.08607,
     "end_time": "2023-04-13T10:29:15.473640",
     "exception": false,
     "start_time": "2023-04-13T10:29:11.387570",
     "status": "completed"
    },
    "tags": []
   },
   "outputs": [
    {
     "name": "stderr",
     "output_type": "stream",
     "text": [
      "[nltk_data] Downloading package stopwords to /home/kaka/nltk_data..."
     ]
    },
    {
     "name": "stderr",
     "output_type": "stream",
     "text": [
      "\n"
     ]
    },
    {
     "name": "stderr",
     "output_type": "stream",
     "text": [
      "[nltk_data]   Package stopwords is already up-to-date!"
     ]
    },
    {
     "name": "stderr",
     "output_type": "stream",
     "text": [
      "\n"
     ]
    },
    {
     "name": "stderr",
     "output_type": "stream",
     "text": [
      "/tmp/ipykernel_53202/2734960095.py:8: FutureWarning: The default value of regex will change from True to False in a future version.\n",
      "  text_column = text_column.str.lower().str.replace('[{}]'.format(string.punctuation), '')\n"
     ]
    },
    {
     "name": "stdout",
     "output_type": "stream",
     "text": [
      "[('use', 12475), ('software', 11347), ('one', 10889), ('like', 9573), ('product', 9017), ('time', 8797), ('get', 8460), ('windows', 7960), ('vent', 7832), ('program', 7566), ('would', 6835), ('great', 6821), ('version', 6746), ('good', 6577), ('dryer', 6410), ('used', 6350), ('using', 6243), ('well', 6172), ('really', 5848), ('dont', 5466)]"
     ]
    },
    {
     "name": "stdout",
     "output_type": "stream",
     "text": [
      "\n"
     ]
    }
   ],
   "source": [
    "import string\n",
    "import nltk\n",
    "from collections import Counter\n",
    "nltk.download('stopwords')\n",
    "text_column = df_all['reviewText']\n",
    "\n",
    "stop_words = nltk.corpus.stopwords.words('english')\n",
    "text_column = text_column.str.lower().str.replace('[{}]'.format(string.punctuation), '')\n",
    "text_column = text_column.apply(lambda x: ' '.join([word for word in str(x).split() if word not in stop_words]))\n",
    "\n",
    "words = ' '.join(text_column).split()\n",
    "word_freq = Counter(words)\n",
    "sorted_words = sorted(word_freq.items(), key=lambda x: x[1], reverse=True)\n",
    "top_words = sorted_words[:20]\n",
    "print(top_words)\n"
   ]
  },
  {
   "cell_type": "markdown",
   "id": "cc702672",
   "metadata": {
    "papermill": {
     "duration": 0.006209,
     "end_time": "2023-04-13T10:29:15.487950",
     "exception": false,
     "start_time": "2023-04-13T10:29:15.481741",
     "status": "completed"
    },
    "tags": []
   },
   "source": [
    "Łatwo rozpoznać słowa mogące świadczyć o sentymencie \"great\", 'well\", \"good\" możliwe, żę \"like\""
   ]
  },
  {
   "cell_type": "code",
   "execution_count": 16,
   "id": "e1508cb7",
   "metadata": {
    "execution": {
     "iopub.execute_input": "2023-04-13T10:29:15.502604Z",
     "iopub.status.busy": "2023-04-13T10:29:15.502288Z",
     "iopub.status.idle": "2023-04-13T10:29:19.374267Z",
     "shell.execute_reply": "2023-04-13T10:29:19.373438Z"
    },
    "papermill": {
     "duration": 3.88169,
     "end_time": "2023-04-13T10:29:19.375745",
     "exception": false,
     "start_time": "2023-04-13T10:29:15.494055",
     "status": "completed"
    },
    "tags": []
   },
   "outputs": [
    {
     "name": "stderr",
     "output_type": "stream",
     "text": [
      "/tmp/ipykernel_53202/1968566922.py:9: FutureWarning: The default value of regex will change from True to False in a future version.\n",
      "  text_column = text_column.str.lower().str.replace('[{}]'.format(string.punctuation), '')\n"
     ]
    }
   ],
   "source": [
    "df1 = df_all[df_all['overall'] == 1]\n",
    "df2 = df_all[df_all['overall'] == 2]\n",
    "df3 = df_all[df_all['overall'] == 3]\n",
    "df4 = df_all[df_all['overall'] == 4]\n",
    "df5 = df_all[df_all['overall'] == 5]\n",
    "\n",
    "def word_frequency(df):\n",
    "    text_column = df['reviewText']\n",
    "    text_column = text_column.str.lower().str.replace('[{}]'.format(string.punctuation), '')\n",
    "    text_column = text_column.apply(lambda x: ' '.join([word for word in str(x).split() if word not in stop_words]))\n",
    "    words = ' '.join(text_column).split()\n",
    "    word_freq = Counter(words)\n",
    "    return word_freq\n",
    "\n",
    "wf1 = word_frequency(df1)\n",
    "wf2 = word_frequency(df2)\n",
    "wf3 = word_frequency(df3)\n",
    "wf4 = word_frequency(df4)\n",
    "wf5 = word_frequency(df5)"
   ]
  },
  {
   "cell_type": "code",
   "execution_count": 17,
   "id": "d08e1f88",
   "metadata": {
    "execution": {
     "iopub.execute_input": "2023-04-13T10:29:19.390399Z",
     "iopub.status.busy": "2023-04-13T10:29:19.390207Z",
     "iopub.status.idle": "2023-04-13T10:29:19.420124Z",
     "shell.execute_reply": "2023-04-13T10:29:19.419326Z"
    },
    "papermill": {
     "duration": 0.038416,
     "end_time": "2023-04-13T10:29:19.421453",
     "exception": false,
     "start_time": "2023-04-13T10:29:19.383037",
     "status": "completed"
    },
    "tags": []
   },
   "outputs": [
    {
     "name": "stdout",
     "output_type": "stream",
     "text": [
      "Specyficzne słowa z top 30 najczęstszych dla najgorszch ocen"
     ]
    },
    {
     "name": "stdout",
     "output_type": "stream",
     "text": [
      "\n"
     ]
    },
    {
     "name": "stdout",
     "output_type": "stream",
     "text": [
      "{'quicken', 'back', 'support', 'microsoft', '7', 'norton', 'install', 'upgrade', 'problem', 'vista', 'system'}"
     ]
    },
    {
     "name": "stdout",
     "output_type": "stream",
     "text": [
      "\n"
     ]
    },
    {
     "name": "stdout",
     "output_type": "stream",
     "text": [
      "Specyficzne słowa z top 30 najczęstszych dla najlpeszych ocen"
     ]
    },
    {
     "name": "stdout",
     "output_type": "stream",
     "text": [
      "\n"
     ]
    },
    {
     "name": "stdout",
     "output_type": "stream",
     "text": [
      "{'drill', 'dryer', 'easy', 'didnt', 'great', 'lint', 'clean', 'love'}"
     ]
    },
    {
     "name": "stdout",
     "output_type": "stream",
     "text": [
      "\n"
     ]
    }
   ],
   "source": [
    "def top_words(word_freq, n):\n",
    "    sorted_words = sorted(word_freq.items(), key=lambda x: x[1], reverse=True)\n",
    "    top_words = [w[0] for w in sorted_words[:n]]\n",
    "    return set(top_words)\n",
    "\n",
    "top_n = 30\n",
    "overall_words = {}\n",
    "overall_words[1] = top_words(wf1, top_n)\n",
    "overall_words[2] = top_words(wf2, top_n)\n",
    "overall_words[3] = top_words(wf3, top_n)\n",
    "overall_words[4] = top_words(wf4, top_n)\n",
    "overall_words[5] = top_words(wf5, top_n)\n",
    "\n",
    "print(\"Specyficzne słowa z top 30 najczęstszych dla najgorszch ocen\")\n",
    "print(overall_words[1] - overall_words[3] - overall_words[4] - overall_words[5])\n",
    "print(\"Specyficzne słowa z top 30 najczęstszych dla najlpeszych ocen\")\n",
    "print(overall_words[5] - overall_words[3] - overall_words[2] - overall_words[1])"
   ]
  },
  {
   "cell_type": "markdown",
   "id": "2894afb5",
   "metadata": {
    "papermill": {
     "duration": 0.008544,
     "end_time": "2023-04-13T10:29:19.438380",
     "exception": false,
     "start_time": "2023-04-13T10:29:19.429836",
     "status": "completed"
    },
    "tags": []
   },
   "source": [
    "Widać dużo jednoznacznie dobrych przymiotników przy ocenach = 5 <br>\n",
    "Przy ocench = 1 widać, że istnieją problemy w systemem microsofut vista lub 7 i w zmianach oprogramowania."
   ]
  },
  {
   "cell_type": "code",
   "execution_count": 18,
   "id": "9f6e825f",
   "metadata": {
    "execution": {
     "iopub.execute_input": "2023-04-13T10:29:19.456208Z",
     "iopub.status.busy": "2023-04-13T10:29:19.455920Z",
     "iopub.status.idle": "2023-04-13T10:29:21.559977Z",
     "shell.execute_reply": "2023-04-13T10:29:21.559373Z"
    },
    "papermill": {
     "duration": 2.114577,
     "end_time": "2023-04-13T10:29:21.561454",
     "exception": false,
     "start_time": "2023-04-13T10:29:19.446877",
     "status": "completed"
    },
    "tags": []
   },
   "outputs": [
    {
     "name": "stdout",
     "output_type": "stream",
     "text": [
      "Całkowita długość tekstu: "
     ]
    },
    {
     "name": "stdout",
     "output_type": "stream",
     "text": [
      " "
     ]
    },
    {
     "name": "stdout",
     "output_type": "stream",
     "text": [
      "746.7728142134569"
     ]
    },
    {
     "name": "stdout",
     "output_type": "stream",
     "text": [
      " "
     ]
    },
    {
     "name": "stdout",
     "output_type": "stream",
     "text": [
      "znaków"
     ]
    },
    {
     "name": "stdout",
     "output_type": "stream",
     "text": [
      "\n"
     ]
    },
    {
     "name": "stdout",
     "output_type": "stream",
     "text": [
      "Średnia długość tekstu: "
     ]
    },
    {
     "name": "stdout",
     "output_type": "stream",
     "text": [
      " "
     ]
    },
    {
     "name": "stdout",
     "output_type": "stream",
     "text": [
      "746.7728142134569"
     ]
    },
    {
     "name": "stdout",
     "output_type": "stream",
     "text": [
      " "
     ]
    },
    {
     "name": "stdout",
     "output_type": "stream",
     "text": [
      "znaków"
     ]
    },
    {
     "name": "stdout",
     "output_type": "stream",
     "text": [
      "\n"
     ]
    },
    {
     "name": "stdout",
     "output_type": "stream",
     "text": [
      "Maksymalna długość tekstu: "
     ]
    },
    {
     "name": "stdout",
     "output_type": "stream",
     "text": [
      " "
     ]
    },
    {
     "name": "stdout",
     "output_type": "stream",
     "text": [
      "31644"
     ]
    },
    {
     "name": "stdout",
     "output_type": "stream",
     "text": [
      " "
     ]
    },
    {
     "name": "stdout",
     "output_type": "stream",
     "text": [
      "znaków"
     ]
    },
    {
     "name": "stdout",
     "output_type": "stream",
     "text": [
      "\n"
     ]
    },
    {
     "name": "stderr",
     "output_type": "stream",
     "text": [
      "[nltk_data] Downloading package gutenberg to /home/kaka/nltk_data..."
     ]
    },
    {
     "name": "stderr",
     "output_type": "stream",
     "text": [
      "\n"
     ]
    },
    {
     "name": "stderr",
     "output_type": "stream",
     "text": [
      "[nltk_data]   Package gutenberg is already up-to-date!"
     ]
    },
    {
     "name": "stderr",
     "output_type": "stream",
     "text": [
      "\n"
     ]
    },
    {
     "name": "stderr",
     "output_type": "stream",
     "text": [
      "[nltk_data] Downloading package punkt to /home/kaka/nltk_data..."
     ]
    },
    {
     "name": "stderr",
     "output_type": "stream",
     "text": [
      "\n"
     ]
    },
    {
     "name": "stderr",
     "output_type": "stream",
     "text": [
      "[nltk_data]   Package punkt is already up-to-date!"
     ]
    },
    {
     "name": "stderr",
     "output_type": "stream",
     "text": [
      "\n"
     ]
    },
    {
     "name": "stdout",
     "output_type": "stream",
     "text": [
      "Co stanowi "
     ]
    },
    {
     "name": "stdout",
     "output_type": "stream",
     "text": [
      " "
     ]
    },
    {
     "name": "stdout",
     "output_type": "stream",
     "text": [
      "13.5"
     ]
    },
    {
     "name": "stdout",
     "output_type": "stream",
     "text": [
      " "
     ]
    },
    {
     "name": "stdout",
     "output_type": "stream",
     "text": [
      "% ksiązki \"Moby Dick\""
     ]
    },
    {
     "name": "stdout",
     "output_type": "stream",
     "text": [
      "\n"
     ]
    },
    {
     "name": "stdout",
     "output_type": "stream",
     "text": [
      "Minimalna długość tekstu: "
     ]
    },
    {
     "name": "stdout",
     "output_type": "stream",
     "text": [
      " "
     ]
    },
    {
     "name": "stdout",
     "output_type": "stream",
     "text": [
      "1"
     ]
    },
    {
     "name": "stdout",
     "output_type": "stream",
     "text": [
      " "
     ]
    },
    {
     "name": "stdout",
     "output_type": "stream",
     "text": [
      "znaków"
     ]
    },
    {
     "name": "stdout",
     "output_type": "stream",
     "text": [
      "\n"
     ]
    }
   ],
   "source": [
    "text_length = df_all['reviewText'].astype(str).apply(len)\n",
    "print(\"Całkowita długość tekstu: \", text_length.mean(), 'znaków')\n",
    "print(\"Średnia długość tekstu: \", text_length.mean(), 'znaków')\n",
    "print(\"Maksymalna długość tekstu: \", text_length.max(), 'znaków')\n",
    "nltk.download('gutenberg')\n",
    "nltk.download('punkt')\n",
    "\n",
    "text = nltk.corpus.gutenberg.raw('melville-moby_dick.txt')\n",
    "words = nltk.word_tokenize(text)\n",
    "non_unique_words = len(words) - len(set(words))\n",
    "\n",
    "print(\"Co stanowi \", round(text_length.max()/non_unique_words*100, 1), '% ksiązki \"Moby Dick\"')\n",
    "print(\"Minimalna długość tekstu: \", text_length.min(), 'znaków')\n",
    "# w sumie mogłęm wykorzystać kolumnę którą stworzyłem:p"
   ]
  },
  {
   "cell_type": "code",
   "execution_count": 19,
   "id": "742d076f",
   "metadata": {
    "execution": {
     "iopub.execute_input": "2023-04-13T10:29:21.579165Z",
     "iopub.status.busy": "2023-04-13T10:29:21.578921Z",
     "iopub.status.idle": "2023-04-13T10:29:21.800699Z",
     "shell.execute_reply": "2023-04-13T10:29:21.800094Z"
    },
    "papermill": {
     "duration": 0.231794,
     "end_time": "2023-04-13T10:29:21.801941",
     "exception": false,
     "start_time": "2023-04-13T10:29:21.570147",
     "status": "completed"
    },
    "tags": []
   },
   "outputs": [
    {
     "name": "stdout",
     "output_type": "stream",
     "text": [
      "Liczba unikalnych słów: "
     ]
    },
    {
     "name": "stdout",
     "output_type": "stream",
     "text": [
      " "
     ]
    },
    {
     "name": "stdout",
     "output_type": "stream",
     "text": [
      "37315"
     ]
    },
    {
     "name": "stdout",
     "output_type": "stream",
     "text": [
      "\n"
     ]
    },
    {
     "name": "stdout",
     "output_type": "stream",
     "text": [
      "W Panu Tadeuszu jest 2x więcej unikalnych słów"
     ]
    },
    {
     "name": "stdout",
     "output_type": "stream",
     "text": [
      "\n"
     ]
    }
   ],
   "source": [
    "import collections\n",
    "\n",
    "words = text_column.str.cat(sep=' ').split()\n",
    "word_freq = collections.Counter(words)\n",
    "\n",
    "print(\"Liczba unikalnych słów: \", len(word_freq))\n",
    "print(\"W Panu Tadeuszu jest 2x więcej unikalnych słów\")"
   ]
  },
  {
   "cell_type": "code",
   "execution_count": 20,
   "id": "b7874cab",
   "metadata": {
    "execution": {
     "iopub.execute_input": "2023-04-13T10:29:21.820699Z",
     "iopub.status.busy": "2023-04-13T10:29:21.820344Z",
     "iopub.status.idle": "2023-04-13T10:29:21.835634Z",
     "shell.execute_reply": "2023-04-13T10:29:21.835201Z"
    },
    "papermill": {
     "duration": 0.026257,
     "end_time": "2023-04-13T10:29:21.836725",
     "exception": false,
     "start_time": "2023-04-13T10:29:21.810468",
     "status": "completed"
    },
    "tags": []
   },
   "outputs": [
    {
     "name": "stdout",
     "output_type": "stream",
     "text": [
      "Wiersz z maksymalną długością tekstu: "
     ]
    },
    {
     "name": "stdout",
     "output_type": "stream",
     "text": [
      "\n"
     ]
    },
    {
     "name": "stdout",
     "output_type": "stream",
     "text": [
      " Fuzzy Wuzzy's Summary:\n",
      " Highly recommended with warm fuzzies!\n",
      "\n",
      " Design & Features:  Excellent 5-fuzzies rating\n",
      " Ergonomics & Usability:  Average not-good not-bad 3-fuzzies rating\n",
      " Performance, Stability & Reliability:  Excellent 5-fuzzies rating\n",
      " Competitive Pricing & Value:  Excellent 5-fuzzies rating\n",
      "\n",
      " Positives:\n",
      "\n",
      " Many stability and performance issues from the previous X3 versions of both PaintShop Pro and VideoStudio Pro were resolved in this X4 version. It runs noticeably quicker, even on slower 5-year old laptops and small netbooks, with good stability.\n",
      " PaintShop Pro X4 offers a very wide range of tools for both photo editing and graphic design, ranging from serious photography-specific tools to fun graphics manipulation.\n",
      " PaintShop Pro X4 combines photo editing, photo retouching, painting, drawing, graphics design, and image management in a single package.\n",
      " PaintShop Pro X4 has a great selection of photo enhancement tools, both to fix common photography issues and also more esoteric image manipulation tools.\n",
      " PaintShop Pro X4 includes Web graphics tools for image mapping and slicing, and for coding image rollovers and Web button creation.\n",
      " Very affordable, yet very powerful, for both photo and video editing; currently selling on Amazon at a heavily discounted pricing of less than $90.\n",
      " A very useful \"Learning Center\" and video tutorials help newbies learn the software and accomplish common tasks.\n",
      " The PaintShop Pro X4 user interface is divided into three tabs, \"Manage\", \"Adjust\", \"Edit\", providing a usable workflow from initial photo review to final editing, and allowing you to configure, customize, and save how you use each workspace. You can also customize each toolbar individually.\n",
      " VideoStudio Pro's \"Smart Proxy\" editing mode lets you can edit high-definition video in a low-resolution mode, thereby allowing you to use a slower computer without necessarily slowing down to a sluggish crawl.\n",
      " VideoStudio Pro has a new time-lapse photography feature to create time-lapse movies from a set of photos shot over a period of time.\n",
      " The included proDAD Mercalli SE video correction/stabilization for use in VideoStudio Pro X4 works wonderfully to stabilize and remove the shake from hand-held videos.\n",
      "\n",
      " Negatives:\n",
      "\n",
      " Even though the new HDR \"Exposure Merge\" tool in PaintShop Pro X4 is a great start, the tool is not always precise at aligning objects between bracketed shots and it is especially lacking in deghosting; both problems can arise from either camera movement or movement of objects in the scene.\n",
      " PaintShop Pro X4 has limited RAW file processing capabilities and compatibilities compared to Adobe Lightroom, but Corel now intends for RAW handling to be better addressed in their new AfterShot Pro software.\n",
      " Despite being more uncluttered and streamlined than the previous X3 version's user interface, the \"Edit\" tab of the new PaintShop Pro X4 user interface, which serves as the main workhorse for serious image editing, is still somewhat cluttered and disorganized, with overlapping functions and ambiguous groupings of tools, and this impacts the ergonomics and usability of the software, especially for new users.\n",
      " For the graphics newbie who has no previous experience using graphics software, there is a medium-to-high learning curve effort required to learn how to proficiently use the PaintShop Pro software. This software is not specifically designed for simple image manipulation by novices. If you are initially learning this software, you should start off just using the \"Adjust\" tab and not use the \"Edit\" tab; the \"Adjust\" tab is simplified and suitable to novices whereas the \"Edit\" tab is meant for power users.\n",
      " As with some of Corel's other recent products, accessing the help documentation for both PaintShop Pro and VideoStudio Pro requires access to Corel's online Web site for information, instead of being able to access all help documentation locally on my computer directly from within the application.\n",
      "\n",
      "What is in the box package of \"Corel Photo and Video Pro X4 Ultimate Bundle\"?\n",
      "\n",
      " 2 PaintShop Pro software CDs (for Windows 7/Vista/XP)\n",
      " 1 VideoStudio Pro software CD (for Windows 7/Vista/XP)\n",
      " 3D glasses\n",
      " Leaflet with WinZip Pro compression software download instructions and activation code.\n",
      " Leaflet with Blurb.com coupon code for a $33.95 discount off a photo book that you create from the Blurb.com Web site.\n",
      " Leaflet with Fotolia coupon code that may be used to download 21 photos from that site.\n",
      " PaintShop Pro X4 User Guide\n",
      " VideoStudio Pro X4 User Guide\n",
      " VideoStudio Pro X4 \"Getting Started\" Guide\n",
      "\n",
      "This affordably-priced bundle essentially consists of two separate Corel products: PaintShop Pro X4 and VideoStudio Pro X4. In addition, the \"Ultimate\" extras that separate it from their non-Ultimate counterparts include: Nik Color Efex Pro 3.0 photographic filters, extra \"Picture Tube\" images for use in PaintShop Pro, proDAD Mercalli SE video correction/stabilization for use in VideoStudio Pro, Boris Graffiti 5.3 for text/title/graphics animation and 3D effects, and coupons for WinZip software, Blurb.com photo book, and 21 free image downloads from Fotolia's Web site. If you are really only interested in either PaintShop Pro X4 or VideoStudio Pro X4, but do not want both products, you can just purchase either product in their separate \"Ultimate\" packaging.\n",
      "\n",
      "I have always been a fan of PaintShop Pro throughout the 1990s and I have often kept updating PSP versions after Corel acquired its original developer, JASC Software, in 2004, even though I also have been updating versions of CorelDRAW Graphics Suite starting from CorelDRAW 5. Along with recently releasing the new&nbsp;<a data-hook=\"product-link-linked\" class=\"a-link-normal\" href=\"/Corel-AfterShot-Pro/dp/B006WVR9GY/ref=cm_cr_arp_d_rvw_txt?ie=UTF8\">Corel AfterShot Pro</a>&nbsp;this year (after Corel acquired Bibble Labs and repackaged their \"Bibble Pro\" as \"AfterShot Pro\") and also the newly updated&nbsp;<a data-hook=\"product-link-linked\" class=\"a-link-normal\" href=\"/CorelDRAW-Graphics-Suite-X6/dp/B007IWCQ8W/ref=cm_cr_arp_d_rvw_txt?ie=UTF8\">CorelDRAW Graphics Suite X6</a>, which includes Corel's original photo-editor called \"Photo-Paint\", Corel now has three photo applications which have some overlapping functions and also unique abilities of their own. As a photo management application, AfterShot Pro is meant to complement PaintShop Pro and compete against Adobe Photoshop Lightroom. PaintShop Pro remains my favorite \"Photoshop for the non-professional-graphics masses\" application, being more feature-packed and capable like Photoshop CS than Adobe's own&nbsp;<a data-hook=\"product-link-linked\" class=\"a-link-normal\" href=\"/Adobe-Photoshop-Elements-10/dp/B005MMMT6E/ref=cm_cr_arp_d_rvw_txt?ie=UTF8\">Adobe Photoshop Elements 10</a>.\n",
      "\n",
      "Even though my video-editing skills rank far behind my photo-editing and graphics design skills, I started using Corel's VideoStudio Pro software when it was at version \"X2\". The VideoStudio Pro X4 version that is included in this software bundle offers powerful video editing with great stop-motion and time-lapse animation capabilities. But as with the PaintShop Pro photo software, you need plenty of patience to progressively learn all of its features.\n",
      "\n",
      "The Corel Photo and Video Pro X4 Ultimate Bundle's notable product features are described and rated below:\n",
      "\n",
      " Design & Features:  Excellent 5-fuzzies rating:\n",
      "\n",
      " After Corel acquired JASC Software, they have been adding new features with each release, and even though this version runs and feels slower than earlier versions of PSP, I feel that it is a fair trade-off to allow the code bloat due to the number and complexity of features to slow the software down. With this latest X4 version, I get a powerful set of photo and graphics editing tools that is more useful than Photoshop Elements 10. PaintShop Pro X4 pales in comparison to the power of the full-blown Photoshop CS, but with its significantly lower pricing and learning curve compared to Photoshop CS, it is obviously meant to compete against software like Photoshop Elements, which it handily outperforms.\n",
      "\n",
      " This \"Ultimate\" version of PaintShop Pro X4 adds even more power and value by including the award-winning Nik Color Efex Pro 3.0 photographic filters, which includes 52 photographic filters that can be applied to images to give them special effects. Also included in this Ultimate version is a collection of \"Picture Tubes\", which are thematic collections of graphics that can be painted onto an image to add more bling to your images, frames, and borders.\n",
      "\n",
      " To help you navigate through the plethora of PaintShop Pro tools and effects, a very useful 'Effect Browser' lets you try out the various effects, instead of accessing each effect one by one.\n",
      "\n",
      " PaintShop Pro includes tools that are very friendly to use by newbies such as 'One Step Photo Fix', 'Smart Photo Fix', and 'One Step Noise Removal'.\n",
      "\n",
      " The new PaintShop Pro HDR (High Dynamic Range) \"Exposure Merge\" tool is Corel's foray into HDR software, which Adobe and other graphics software vendors are also incorporating into their tools. HDR processing involves combining multiple exposures of the exact same shot (which is easier if your camera has an Automatic Exposure Bracketing (AEB) function) to create a high dynamic range photo which can display a higher tonal range than what the camera is capable of capturing in a single exposure. There are various software specifically dedicated to HDR processing. For the past four years, since version 3 in 2008, I have been using the excellent&nbsp;<a data-hook=\"product-link-linked\" class=\"a-link-normal\" href=\"/Photomatix-Pro-4/dp/B002CIP12U/ref=cm_cr_arp_d_rvw_txt?ie=UTF8\">Photomatix Pro 4</a>&nbsp;software for HDR processing. On a relative scale specifically rating its HDR functions, I would rate Photomatix 5 fuzzy stars while this PaintShop Pro X4's new HDR \"Exposure Merge\" tool only gets 3 fuzzy stars rating. Both Corel and Adobe still have a long way to catch up with the powerful and flexible offerings in Photomatix. In particular, I found the \"Exposure Merge\" tool in this version of PaintShop Pro X4 to be lacking in its ability to precisely align bracketed photos and thoroughly and flexibly remove ghosting artifacts, which is something that Photomatix does a very good job at. If you use a tripod-mounted camera to shoot bracketed photos where nothing in the scene moves the least bit, then the \"Exposure Merge\" tool consistently outputs good HDR results. But when shooting portraits or landscapes, or shooting hand-held, bracketed photos often have misaligned objects and/or moving objects in the shots. Even bracketed portrait shots of a person using a tripod can result in tiny movements by the person that require excellent alignment and deghosting by HDR software, and Photomatix currently beats PaintShop Pro's \"Exposure Merge\" tool in this area. PaintShop Pro's \"Exposure Merge\" tool frequently has ghosting artifacts leftover either from movement of the camera by the photographer or movement of objects in the scene. This ghosting is especially evident in scenes such as landscapes where various plants may be moving in the breeze or portraits where the subject has slightly moved in between each bracketed shot.\n",
      "\n",
      "Photomatix also includes a plethora of other tone mapping, image stacking, and on-the-fly editing adjustments, including being able to define specific areas of photos to deghost and specific areas of photos where I can use the original image instead of the HDR output. I use these Photomatix functions a lot because I always aim for very natural-looking HDR images, instead of the surreal psychedelic HDR images that are, all too often, output by people. HDR software can be abused to create unnatural over-saturated photos that become tiresome to look at. Using Photomatix on an image of people set against a beautiful background landscape, I can tell the software to use an original un-HDR'ed exposure of a photo for the people's faces while letting the software HDR-process the rest of the landscape, and this is very useful to me because HDR-processed skin tones can sometimes look unnatural. PaintShop Pro's \"Exposure Merge\" tool cannot perform these functions that I described. So a good HDR workflow would be to HDR-process your bracketed photos first using Photomatix, and then further edit the HDR output in PaintShop Pro, perhaps performing some sharpening as the last step before saving the files.\n",
      "\n",
      " The new PaintShop Pro \"Photo Blend\" tool lets you merge the best aspects of multiple photos into one photo by removing, swapping, or adding details to the final combined photo. This is often used for group shots when you have some people with eyes open and some with eyes closed, or to remove distracting objects from a static scene such as cars and other strangers in the background, but this can also be used for fun creative purposes as well. As with the new \"Exposure Merge\" HDR tool, this is ideally used with identically composed photos that were all shot from a tripod or a very steady hand.\n",
      "\n",
      " The new PaintShop Pro \"Selective Focus\" tool is pretty fun to work with, letting you simulate the effect of tilt-shift lenses (e.g. Lensbaby) by selectively blurring areas. This is also somewhat similar to simulating a shallow depth of field when using a large aperture setting on a camera lens to get a blurry bokeh background surrounding your main subject of focus.\n",
      "\n",
      " A new PaintShop Pro \"Fill Light\" filter lets your brighten shadow areas in photos and a separate \"Clarity\" filter lets you sharpen or soften subtle details in a photo. These two filters, presented together as a single tool, can be used, for example, on a portrait to brighten a dark shadowed region of the face while selectively softening the wrinkles on the person's face for portraits shot in the harsh bright glare of mid-day sun.\n",
      "\n",
      " Although Corel hopes that users perform RAW conversion using their new AfterShot Pro software (which was formerly \"Bibble Pro\" before Corel acquired Bibble Labs), PaintShop Pro still includes its \"Camera RAW Lab\" for RAW conversion, and this X4 version adds new highlight recovery options to recover details in overexposed regions of a photo.\n",
      "\n",
      " PaintShop Pro has built-in one-click photo sharing that lets you upload photos to either Facebook or Flickr, or send via email. Likewise, VideoStudio Pro lets you upload movies to YouTube.\n",
      "\n",
      " I had fun using VideoStudio Pro's new time-lapse photography feature. I used a Canon Timer Remote Controller TC-80N3 to shoot a series of timer-delayed photos of the sun setting behind the mountains and another cool every-two-minutes photo series that I made last summer of a morning glory vine slowly opening up its blooms, and then I used the VideoStudio Pro X4's time-lapse photography feature to create a video from both of these photo series that look like a sped-up time-lapse movie. If both videos had been recorded as real-time videos, they would have been mind-numbingly boring to watch, but when sped up using the time-lapse feature, they allow everyday people like me to showcase the wonders of nature just like how the professional movies and television nature programs use time-lapse photography.\n",
      "\n",
      " VideoStudio Pro lets me use both standard definition and HD videos, and editing, authoring, and burning of both video types is easy. The software is very flexible in importing videos from your hard drive or capturing them directly from your video recorders. There are flexible options for viewing your files in different ways such as timeline or storyboard modes, which are useful for adding videos, pictures, text, audio and music tracks. You can also trim or split your video into sections for better continuity, adding transitions and enhancing with many kinds of built-in effects. Once you upload your video, you can trim and divide the video into clips. Trimming is marking the beginning and ending of an entire clip, while multi-trimming is useful to divide one segment into multiple clips. Multi-trimming is very useful for editing out various parts of a recorded video to exclude sections that are boring or extraneous. This software's trimming functions are powerful and very easy to use, allowing me to feel like a Hollywood film director while I edit my videos to make them flow seamlessly between different scenes.\n",
      "\n",
      " As with previous versions of VideoStudio, you can import photos to create a photo slideshow along with adding text and music accompaniment. The software is very flexible for adding music or audio voiceovers to your video projects from a variety of sources. You can add audio to your projects in Corel VideoStudio Pro X4 using various methods such as adding audio files to the library from your hard drive, ripping music from a CD, or recording a voiceover clip. You can edit the audio clips using a built-in sound mixer to adjust the volume, length and duration, fade-in/fade-out, and apply various mixing and sound filter effects to the audio tracks. The video editor does limit you to six overlay video tracks along with your main video track, combined with up to two title tracks, a voice track, and three music tracks. While this is less than some video-editing software that lets you incorporate many dozens of tracks, it is more than sufficient for the vast majority of everyday users (like me) who mainly work with personal videos and it is sufficient even for editing important events like videos of weddings and vacations.\n",
      "\n",
      " After you have finished editing your video masterpiece in VideoStudio Pro, you can export in a variety of common formats including FLV files for YouTube, MPG (MPEG-1/MPEG-2), AVCHD, WMV HD, Windows Media, RealMedia, AVI, and QuickTime. You also have the option to upload your work to Vimeo, Facebook, Flickr, and YouTube. The software can create menus for DVD, Blu-ray, AVCHD, and it offers eight Blu-ray and twelve DVD menu choices. This X4 version also adds new 3D video capabilities. Even though I admit that I am a 3D video editing newbie, this feature seems limited and fairly rudimentary in its 3D rendering options, but it can create some pretty cool eye-popping 3D effects and is easy to use. This will NOT get you the kind of 3D video that Hollywood can create, but it does add another dimension of \"eye candy Wow factor\" to your videos. Just don't expect to create your own version of an \"Avatar 3D\" movie. 3D glasses are included with the software.\n",
      "\n",
      " The \"Ultimate\" version of VideoStudio Pro X4 includes proDAD Mercalli SE video correction/stabilization software that really makes a noticeable difference to stabilize and remove the shake from my videos, which I mostly shoot hand-held.\n",
      "\n",
      " Ergonomics, Usability & Ease of Use:  Average not-good not-bad 3-fuzzies rating\n",
      "\n",
      " The PaintShop Pro user interface now features three separate, yet integrated, workflow interfaces, designated by tabs across the top of the program window: \"Manage\", \"Adjust\", \"Edit\". The \"Photo Organizer\" in previous versions is now replaced by an \"Organizer\" palette which is available from all three workflow tabs.\n",
      "\n",
      " The PaintShop Pro \"Manage\" tab is where you browse, review, and rate images, edit metadata, and create collections of photos. This workspace lets you review and organize your photo files. Using the navigation palette, you can select an entire photo folder on your computer, narrow the selection according to one or more tags that you have assigned to photos, or narrow the selection according to the ratings that you have assigned to photos. The palette also shows basic EXIF information about a photo.\n",
      "\n",
      " The PaintShop Pro \"Adjust\" tab is where you can make photo adjustments using a subset of the most common tools such as sharpening, color balance, brightness/contrast, fill light, clarity, tone mapping, noise removal, cropping, straightening, red-eye removal, or using its various built-in touch-up tools. Edits can also be applied to batches of files. This tab only offers a portion of the tools that are all available from the \"Edit\" tab. Its interface is cleaner and far less busy than the \"Edit\" tab, and because of its simpler layout, it makes an ideal interface for beginning users who are just starting to learn the software.\n",
      "\n",
      " The PaintShop Pro \"Edit\" tab includes all of the entire sets of tools for photo editing, drawing, painting, and graphic design work. By contrast, the \"Adjust\" tab offers only a subset of what can be accessed from the \"Edit\" tab. I think of the \"Adjust\" tab as being designed for novice newbies and beginning-intermediate levels of users, who often are not exactly sure what is wrong with their photo and how specifically to correct/adjust it, and the \"Edit\" tab is designed for advanced power users like me who want to have direct access to all the tools. If you are just starting out with graphics software, I recommend that you begin your photo editing from the \"Adjust\" tab, and then later as you become more proficient with the software, you can ignore this tab and always proceed directly to the \"Edit\" tab. The \"Adjust\" tab is much cleaner with its presentation of tools grouped into a handful of categories on the left side of the user interface and four menu options along the top, whereas the \"Edit\" tab lets you access every possible tool in its comprehensive tool chest and eleven menu options along the top. Overall, I think that this three-tab design strikes a happy balance that addresses the needs of both new users and power users.\n",
      "\n",
      " While the PaintShop Pro \"Manage\" and \"Adjust\" tabs are more simpler, clean, and organized in their user interface layouts, the \"Edit\" tab feels very busy and crowded, and it can be hard to find tools, especially when you are initially familiarizing yourself with all of the software's dozens of tools. And to add to this ergonomics and usability issue, the main menu on the \"Edit\" tab divides the tools into two menu options: 'Adjust' and 'Effects'. The \"Adjust\" tab includes a subset of options that are listed under the 'Adjust' menu option on the \"Edit\" tab. One ambiguous example is that under the 'Adjust' main menu option of the \"Edit\" tab, there is a 'Brightness and Contrast' option that then opens up a submenu containing the new 'Fill Light/Clarity' tool. But the 'Adjust' menu also lists a similar tool called 'Fill Flash'. Both the 'Fill Light/Clarity' and 'Fill Flash' tools have a similar function, but neither the printed User Manual nor the online \"Help Topics\" documentation explain what the differences between both tools are. At a minimum, the 'Fill Flash' tool also needs to be moved into the submenu below the 'Brightness and Contrast' option. Ideally, both 'Fill Flash', which has 'Strength' and 'Saturation' slider settings, and 'Fill Light/Clarity', which has 'Fill Light' and 'Clarity' slider settings, should be combined into a single tool window containing three or four sliders, instead of confusing users as to which of these two tools to use.\n",
      "\n",
      " I like the changes and improvements that Corel has made to VideoStudio Pro X4. I can resize, drag, dock, and undock various windows and UI elements to suit my workspace preferences and everything seems to behave intuitively. But as with how Corel has designed their help system for PaintShop Pro X4 software, the one aspect of the VideoStudio Pro X4 user interface that I really dislike is that to access the help menus, I am forced to hop through intermediate menus before it launches the online help from Corel's Web site using my browser. With both PaintShop Pro X4 and VideoStudio Pro X4, I now just bookmark the help information URLs and access them directly from my browser instead of clicking the cumbersome help button from within the application. Even though the latest and most up-to-date online help information can be dynamically accessed directly from Corel's Web site when using this browser approach, I would still really prefer the previous approach of at least being given the option during the installation of the software to load the full help documentation on my computer's local hard drive since that also gives me the freedom to access the user manuals and help guides when I use the software without having Internet access.\n",
      "\n",
      " VideoStudio Pro is a big complex software application that really requires some patience for you to slowly become more familiar with all of its features and power. But its user interface is cleanly designed so that newbie first-timers can start editing their videos with ease without fully mastering all of its powerful features. Fortunately, Corel also provides plenty of online help along with easy-to-use templates and more than 60 really cool special effects and more than 150 transition effects to let you experiment and try out many of its flexible options so even video-editing newbies can create a polished slick video with ease. The software uses a nondestructive editing approach so that your original video file is not being directly modified along the way. This also allows you to experiment, even trying out wacky ideas and special effects, turning a tedious chore into a fun playtime of creating video eye candy.\n",
      "\n",
      " Performance, Stability & Reliability:  Excellent 5-fuzzies rating\n",
      "\n",
      " Compared to previous versions of PaintShop Pro, this X4 version has pretty good stability. During almost one year of weekly usage before writing this review, I have had the software crash or hang about 6 times total, and this includes running the software on an old underpowered Windows Vista laptop and a tiny Windows 7 Dell Mini 10 netbook. Corel has obviously worked on adding stability with this version, along with GPU optimizations.\n",
      "\n",
      " Speed has been noticeably improved, the performance is considerably faster than previous versions, start-up time to launch the program for the first time has been improved, and these improvements are especially apparent when running PaintShop Pro X4 on an older slower computer. When used on my 5-year old Windows Vista laptop with 2GB memory, applying most effects happens in real-time, and for some operations such as adjusting sharpening parameters on 100-MB TIFF image files, the pop-up preview window will still display a progress meter, but these progress meters only last for a few seconds on this older laptop of mine.\n",
      "\n",
      " PaintShop Pro X4 now requires only 1GB of disk space. The previous PaintShop Pro X3 version required 3GB of disk space, which tells me that prior to X4, PaintShop Pro had become very bloated and disorganized. So this redesign both increased performance and reduced the disk space required. By comparison, Adobe's latest Photoshop Elements 10 requires a whopping 3GB to 4GB of disk space, even though it has less features and effects than PaintShop Pro X4.\n",
      "\n",
      " With this VideoStudio Pro X4 version, Corel continues to add new features and useful enhancements, important bug fixes and crucial improvements to software stability, along with performance and speed boosts by taking advantage of Intel's and AMD's new CPUs and also GPU acceleration provided by specific Nvidia graphics processors.\n",
      "\n",
      " One really cool performance feature offered by VideoStudio Pro is that it has a \"Smart Proxy\" editing mode, where you can edit high-definition video in a low-resolution mode, thereby allowing you to use a slower computer without necessarily slowing down to a sluggish crawl. These performance enhancements offer a huge advantage because many of us do not upgrade our computers frequently with the latest fastest CPU processors. So some of the other brands of video editing software may be unbearably slow on these slower computers (even to the point of completely freezing up) while VideoStudio Pro X4 can still zip along with a decent amount of responsiveness on slower computers.\n",
      "\n",
      " Back when I was using VideoStudio Pro X2, the software had various erratic and quirky bugs and serious stability issues; it can be disheartening to have the software freeze up after you have spent more than an hour editing a video. Many of these problems have thankfully been resolved in this VideoStudio Pro X4; not once did I encounter a freeze-up or crash during my edits using X4. When used on an older slower Windows Vista laptop of mine, the software can be sluggishly slow sometimes, but I prefer dealing with slower performance on a slower computer than having to deal with annoying software bugs and applications that freeze up or crash on me, so I accept the fact that I have to wait longer when using VideoStudio Pro X4 on a slower laptop that is more than four years old. As with any video editing software, especially when editing HD videos, your best experience will result from using a fast computer with lots of memory.\n",
      "\n",
      " Competitive Pricing & Value:  Excellent 5-fuzzies rating\n",
      "\n",
      " At the time of this review's writing, PaintShop Pro X4 Ultimate is being discounted on Amazon at a price less than $90.  For less than $100, there is currently no other commercial software that even comes close to the photo and video editing power and features that are offered in this fully-loaded bundle.\n",
      "\n",
      " Fuzzy Wuzzy's Conclusion:\n",
      "\n",
      "For overall bang-for-the-buck combination of very affordable value and feature-packed power in a commercial photo-editing software package, PaintShop Pro X4 currently reigns supreme, beating out Adobe Photoshop Elements 10 and all other photo-editing software that I can think of. If you want something even less expensive, look into a freeware graphics software called \"GIMP\" which offers a ton of graphics editing power for free. And if you have no experience with graphics software or if you do not want to spend time learning its complexities, look into the free and easy-to-use software called \"Paint. NET\".\n",
      "\n",
      "Despite the significant performance improvements in version X4 (I think that it is roughly 50% to 100% faster than X3 and also more stable), it still does have its slow areas of laggardly performance. In particular, this is not a good software for processing RAW files, both due to its slow RAW converter and due to its limited RAW compatibility. But now that Corel has repackaged Bibble Lab's \"Bibble Pro\" as their \"AfterShot Pro\" software, you should consider \"AfterShot Pro\" for your RAW file processing; Bibble had one of the fastest RAW converters and Corel acquired Bibble Labs to compete with Adobe's Lightroom.\n",
      "\n",
      "If you want the deluxe photo management and editing solution, deluxe in capability, cost, and complexity, using Adobe's Lightroom and Photoshop CS are the way to go. Otherwise, this PaintShop Pro X4 is an excellent \"Photoshop for the masses\" alternative. If you primarily shoot in RAW, adding Corel's new AfterShot Pro allows for great RAW handling followed by photo editing in PaintShop Pro X4. And if Corel's HDR feature in PaintShop Pro X4 has whetted your appetite for HDR processing, you should seriously consider getting Photomatix Pro (currently at version 4) since its capabilities exceed anything that Corel or Adobe has to offer.\n",
      "\n",
      "While the VideoStudio Pro X4 included in this bundle lacks some of the features and has more track-editing limitations when compared to both CyberLink PowerDirector and Adobe Premiere, I think that it beats those two when it comes to multi-trim clip editing, key framing, and its best-in-class stop-motion and time-lapse animation capabilities. And VideoStudio Pro X4 is far easier and more intuitive to learn for a newbie compared to Adobe Premiere's dense complexity. If this video-editing software was priced at $300, I would rate it 4 stars or maybe 3.5 stars, but with its inexpensive list price and Corel's frequent heavy pricing discounts, I rate it 5 star"
     ]
    },
    {
     "name": "stdout",
     "output_type": "stream",
     "text": [
      "\n"
     ]
    }
   ],
   "source": [
    "max_length_idx = df_all['reviewText'].str.len().idxmax()\n",
    "max_length_row = df_all.loc[max_length_idx]\n",
    "\n",
    "print(\"Wiersz z maksymalną długością tekstu: \")\n",
    "print(max_length_row['reviewText'])"
   ]
  },
  {
   "cell_type": "markdown",
   "id": "22299c3d",
   "metadata": {
    "papermill": {
     "duration": 0.008397,
     "end_time": "2023-04-13T10:29:21.854215",
     "exception": false,
     "start_time": "2023-04-13T10:29:21.845818",
     "status": "completed"
    },
    "tags": []
   },
   "source": [
    "Należy przeprowadzić dogłebną anlizę reviewText oraz summary, mogą zawierać wiele dodatkowych przydatnych inforamcji pomagających ustalić overall. Należałoby również spróbować zamieć datę na zmienną kategoryczną mówiącą np. o okresach w roku (przed Świętami, wakacje, początek roku szkolnego) może pomogłoby to znaleźć powiązania. Także samo sprawdzenie, czy obecność zdjęcia/ ich ilość jak wpływa na overall. Połączenie tego z danymi numerycznymi może pomóc stowrzyć model klasyfikiacji o wysokim stopniu accuracy"
   ]
  }
 ],
 "metadata": {
  "kernelspec": {
   "display_name": "Python 3 (ipykernel)",
   "language": "python",
   "name": "python3"
  },
  "language_info": {
   "codemirror_mode": {
    "name": "ipython",
    "version": 3
   },
   "file_extension": ".py",
   "mimetype": "text/x-python",
   "name": "python",
   "nbconvert_exporter": "python",
   "pygments_lexer": "ipython3",
   "version": "3.10.9"
  },
  "papermill": {
   "default_parameters": {},
   "duration": 19.746789,
   "end_time": "2023-04-13T10:29:22.480868",
   "environment_variables": {},
   "exception": null,
   "input_path": "notebooks/analyze.ipynb",
   "output_path": "data/notebooks/analyzed.ipynb",
   "parameters": {},
   "start_time": "2023-04-13T10:29:02.734079",
   "version": "2.4.0"
  }
 },
 "nbformat": 4,
 "nbformat_minor": 5
}