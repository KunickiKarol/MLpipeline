{
 "cells": [
  {
   "cell_type": "code",
   "execution_count": 5,
   "id": "2dbab79f",
   "metadata": {
    "ExecuteTime": {
     "end_time": "2023-07-14T18:37:26.711924Z",
     "start_time": "2023-07-14T18:37:26.697621Z"
    },
    "scrolled": true
   },
   "outputs": [
    {
     "name": "stdout",
     "output_type": "stream",
     "text": [
      "/app\n"
     ]
    }
   ],
   "source": [
    "%cd /app"
   ]
  },
  {
   "cell_type": "code",
   "execution_count": 2,
   "id": "89391216",
   "metadata": {
    "ExecuteTime": {
     "end_time": "2023-07-14T18:37:11.660335Z",
     "start_time": "2023-07-14T18:37:11.649786Z"
    }
   },
   "outputs": [],
   "source": [
    "a=3"
   ]
  },
  {
   "cell_type": "code",
   "execution_count": 4,
   "id": "c42d7562",
   "metadata": {
    "ExecuteTime": {
     "end_time": "2023-07-14T18:37:26.667987Z",
     "start_time": "2023-07-14T18:37:20.783358Z"
    }
   },
   "outputs": [],
   "source": [
    "import os\n",
    "import pandas as pd\n",
    "import seaborn as sns\n",
    "from sklearn.dummy import DummyClassifier\n",
    "from sklearn.metrics import f1_score\n",
    "import matplotlib.pyplot as plt\n",
    "from sklearn.preprocessing import StandardScaler\n",
    "import numpy as np\n",
    "from sklearn.decomposition import PCA\n",
    "from sklearn.impute import KNNImputer\n",
    "import dvc.api\n",
    "\n",
    "params = dvc.api.params_show()"
   ]
  },
  {
   "cell_type": "code",
   "execution_count": 6,
   "id": "a03f06f6",
   "metadata": {
    "ExecuteTime": {
     "end_time": "2023-07-14T18:37:31.238103Z",
     "start_time": "2023-07-14T18:37:29.401093Z"
    }
   },
   "outputs": [],
   "source": [
    "import os\n",
    "import pandas as pd\n",
    "import seaborn as sns\n",
    "from sklearn.dummy import DummyClassifier\n",
    "from sklearn.metrics import f1_score\n",
    "import matplotlib.pyplot as plt\n",
    "from sklearn.preprocessing import StandardScaler\n",
    "import numpy as np\n",
    "from sklearn.decomposition import PCA\n",
    "from sklearn.impute import KNNImputer\n",
    "import dvc.api\n",
    "\n",
    "params = dvc.api.params_show()\n",
    "\n",
    "start_file = params[\"preprocessing\"][\"target_file\"]\n",
    "\n",
    "df_all = pd.read_json(start_file, lines=True)\n",
    "df_all[\"reviewTextLength\"] = df_all[\"reviewText\"].astype(str)\n",
    "df_all[\"numbers_amount\"] = df_all[\"reviewText\"].str.count(r\"\\d+\")"
   ]
  },
  {
   "cell_type": "code",
   "execution_count": 16,
   "id": "3ddb32b8",
   "metadata": {},
   "outputs": [
    {
     "name": "stdout",
     "output_type": "stream",
     "text": [
      "Liczba klas: 5\n",
      "5    14391\n",
      "4     4041\n",
      "3     2465\n",
      "1     1741\n",
      "2      889\n",
      "Name: overall, dtype: int64\n"
     ]
    }
   ],
   "source": [
    "print(\"Liczba klas:\", df_all[\"overall\"].nunique())\n",
    "class_counts = df_all[\"overall\"].value_counts()\n",
    "print(class_counts)"
   ]
  },
  {
   "cell_type": "code",
   "execution_count": 17,
   "id": "b7b5224b",
   "metadata": {},
   "outputs": [
    {
     "name": "stdout",
     "output_type": "stream",
     "text": [
      "Skala Overall od 1 do 5\n"
     ]
    }
   ],
   "source": [
    "max_value = df_all[\"overall\"].max()\n",
    "min_value = df_all[\"overall\"].min()\n",
    "print(\"Skala Overall od\", min_value, \"do\", max_value)"
   ]
  },
  {
   "cell_type": "code",
   "execution_count": 18,
   "id": "288763bd",
   "metadata": {},
   "outputs": [
    {
     "data": {
      "text/plain": [
       "overall               int64\n",
       "verified               bool\n",
       "reviewTime           object\n",
       "reviewerID           object\n",
       "asin                 object\n",
       "style                object\n",
       "reviewerName         object\n",
       "reviewText           object\n",
       "summary              object\n",
       "unixReviewTime        int64\n",
       "vote                 object\n",
       "image                object\n",
       "data_origin          object\n",
       "reviewTextLength      int64\n",
       "numbers_amount      float64\n",
       "dtype: object"
      ]
     },
     "execution_count": 18,
     "metadata": {},
     "output_type": "execute_result"
    }
   ],
   "source": [
    "df_all.dtypes"
   ]
  },
  {
   "cell_type": "code",
   "execution_count": 19,
   "id": "acf06a4b",
   "metadata": {},
   "outputs": [
    {
     "data": {
      "text/html": [
       "<div>\n",
       "<style scoped>\n",
       "    .dataframe tbody tr th:only-of-type {\n",
       "        vertical-align: middle;\n",
       "    }\n",
       "\n",
       "    .dataframe tbody tr th {\n",
       "        vertical-align: top;\n",
       "    }\n",
       "\n",
       "    .dataframe thead th {\n",
       "        text-align: right;\n",
       "    }\n",
       "</style>\n",
       "<table border=\"1\" class=\"dataframe\">\n",
       "  <thead>\n",
       "    <tr style=\"text-align: right;\">\n",
       "      <th></th>\n",
       "      <th>overall</th>\n",
       "      <th>verified</th>\n",
       "      <th>reviewTime</th>\n",
       "      <th>reviewerID</th>\n",
       "      <th>asin</th>\n",
       "      <th>style</th>\n",
       "      <th>reviewerName</th>\n",
       "      <th>reviewText</th>\n",
       "      <th>summary</th>\n",
       "      <th>unixReviewTime</th>\n",
       "      <th>vote</th>\n",
       "      <th>image</th>\n",
       "      <th>data_origin</th>\n",
       "      <th>reviewTextLength</th>\n",
       "      <th>numbers_amount</th>\n",
       "    </tr>\n",
       "  </thead>\n",
       "  <tbody>\n",
       "    <tr>\n",
       "      <th>0</th>\n",
       "      <td>5</td>\n",
       "      <td>True</td>\n",
       "      <td>09 1, 2016</td>\n",
       "      <td>A3CIUOJXQ5VDQ2</td>\n",
       "      <td>B0000530HU</td>\n",
       "      <td>{'Size:': ' 7.0 oz', 'Flavor:': ' Classic Ice ...</td>\n",
       "      <td>Shelly F</td>\n",
       "      <td>As advertised. Reasonably priced</td>\n",
       "      <td>Five Stars</td>\n",
       "      <td>1472688000</td>\n",
       "      <td>None</td>\n",
       "      <td>None</td>\n",
       "      <td>All_Beauty_5.json</td>\n",
       "      <td>32</td>\n",
       "      <td>0.0</td>\n",
       "    </tr>\n",
       "    <tr>\n",
       "      <th>1</th>\n",
       "      <td>5</td>\n",
       "      <td>True</td>\n",
       "      <td>11 14, 2013</td>\n",
       "      <td>A3H7T87S984REU</td>\n",
       "      <td>B0000530HU</td>\n",
       "      <td>{'Size:': ' 7.0 oz', 'Flavor:': ' Classic Ice ...</td>\n",
       "      <td>houserules18</td>\n",
       "      <td>Like the oder and the feel when I put it on my...</td>\n",
       "      <td>Good for the face</td>\n",
       "      <td>1384387200</td>\n",
       "      <td>None</td>\n",
       "      <td>None</td>\n",
       "      <td>All_Beauty_5.json</td>\n",
       "      <td>207</td>\n",
       "      <td>0.0</td>\n",
       "    </tr>\n",
       "    <tr>\n",
       "      <th>2</th>\n",
       "      <td>1</td>\n",
       "      <td>True</td>\n",
       "      <td>08 18, 2013</td>\n",
       "      <td>A3J034YH7UG4KT</td>\n",
       "      <td>B0000530HU</td>\n",
       "      <td>{'Size:': ' 7.0 oz', 'Flavor:': ' Classic Ice ...</td>\n",
       "      <td>Adam</td>\n",
       "      <td>I bought this to smell nice after I shave.  Wh...</td>\n",
       "      <td>Smells awful</td>\n",
       "      <td>1376784000</td>\n",
       "      <td>None</td>\n",
       "      <td>None</td>\n",
       "      <td>All_Beauty_5.json</td>\n",
       "      <td>142</td>\n",
       "      <td>1.0</td>\n",
       "    </tr>\n",
       "    <tr>\n",
       "      <th>3</th>\n",
       "      <td>5</td>\n",
       "      <td>False</td>\n",
       "      <td>05 3, 2011</td>\n",
       "      <td>A2UEO5XR3598GI</td>\n",
       "      <td>B0000530HU</td>\n",
       "      <td>{'Size:': ' 7.0 oz', 'Flavor:': ' Classic Ice ...</td>\n",
       "      <td>Rich K</td>\n",
       "      <td>HEY!! I am an Aqua Velva Man and absolutely lo...</td>\n",
       "      <td>Truth is There IS Nothing Like an AQUA VELVA MAN.</td>\n",
       "      <td>1304380800</td>\n",
       "      <td>25</td>\n",
       "      <td>None</td>\n",
       "      <td>All_Beauty_5.json</td>\n",
       "      <td>1417</td>\n",
       "      <td>4.0</td>\n",
       "    </tr>\n",
       "    <tr>\n",
       "      <th>4</th>\n",
       "      <td>5</td>\n",
       "      <td>True</td>\n",
       "      <td>05 6, 2011</td>\n",
       "      <td>A3SFRT223XXWF7</td>\n",
       "      <td>B00006L9LC</td>\n",
       "      <td>{'Size:': ' 200ml/6.7oz'}</td>\n",
       "      <td>C. C. Christian</td>\n",
       "      <td>If you ever want to feel pampered by a shampoo...</td>\n",
       "      <td>Bvlgari Shampoo</td>\n",
       "      <td>1304640000</td>\n",
       "      <td>3</td>\n",
       "      <td>None</td>\n",
       "      <td>All_Beauty_5.json</td>\n",
       "      <td>237</td>\n",
       "      <td>0.0</td>\n",
       "    </tr>\n",
       "  </tbody>\n",
       "</table>\n",
       "</div>"
      ],
      "text/plain": [
       "   overall  verified   reviewTime      reviewerID        asin  \\\n",
       "0        5      True   09 1, 2016  A3CIUOJXQ5VDQ2  B0000530HU   \n",
       "1        5      True  11 14, 2013  A3H7T87S984REU  B0000530HU   \n",
       "2        1      True  08 18, 2013  A3J034YH7UG4KT  B0000530HU   \n",
       "3        5     False   05 3, 2011  A2UEO5XR3598GI  B0000530HU   \n",
       "4        5      True   05 6, 2011  A3SFRT223XXWF7  B00006L9LC   \n",
       "\n",
       "                                               style     reviewerName  \\\n",
       "0  {'Size:': ' 7.0 oz', 'Flavor:': ' Classic Ice ...         Shelly F   \n",
       "1  {'Size:': ' 7.0 oz', 'Flavor:': ' Classic Ice ...     houserules18   \n",
       "2  {'Size:': ' 7.0 oz', 'Flavor:': ' Classic Ice ...             Adam   \n",
       "3  {'Size:': ' 7.0 oz', 'Flavor:': ' Classic Ice ...           Rich K   \n",
       "4                          {'Size:': ' 200ml/6.7oz'}  C. C. Christian   \n",
       "\n",
       "                                          reviewText  \\\n",
       "0                   As advertised. Reasonably priced   \n",
       "1  Like the oder and the feel when I put it on my...   \n",
       "2  I bought this to smell nice after I shave.  Wh...   \n",
       "3  HEY!! I am an Aqua Velva Man and absolutely lo...   \n",
       "4  If you ever want to feel pampered by a shampoo...   \n",
       "\n",
       "                                             summary  unixReviewTime  vote  \\\n",
       "0                                         Five Stars      1472688000  None   \n",
       "1                                  Good for the face      1384387200  None   \n",
       "2                                       Smells awful      1376784000  None   \n",
       "3  Truth is There IS Nothing Like an AQUA VELVA MAN.      1304380800    25   \n",
       "4                                    Bvlgari Shampoo      1304640000     3   \n",
       "\n",
       "  image        data_origin  reviewTextLength  numbers_amount  \n",
       "0  None  All_Beauty_5.json                32             0.0  \n",
       "1  None  All_Beauty_5.json               207             0.0  \n",
       "2  None  All_Beauty_5.json               142             1.0  \n",
       "3  None  All_Beauty_5.json              1417             4.0  \n",
       "4  None  All_Beauty_5.json               237             0.0  "
      ]
     },
     "execution_count": 19,
     "metadata": {},
     "output_type": "execute_result"
    }
   ],
   "source": [
    "df_all.head()"
   ]
  },
  {
   "cell_type": "markdown",
   "id": "5f8779e0",
   "metadata": {},
   "source": [
    "Atrybuty verified , reviewerId, asin, reviewerName, data_origin (łącznie 5) są to zmienna kategoryczna"
   ]
  },
  {
   "cell_type": "markdown",
   "id": "5869148f",
   "metadata": {},
   "source": [
    "Atrybuty reviewTime, unixReviewTime, vote, reviewTextLength, numbers_amount (łacznie 5) są to zmienna numeryczne"
   ]
  },
  {
   "cell_type": "markdown",
   "id": "f32147bf",
   "metadata": {},
   "source": [
    "Oprócz tego mamy adres URL (image), z którego może zostać pobrany obraz o różnym rozmiarze. Zdjęcia zawierają zdjęcia produktu od recenzującego."
   ]
  },
  {
   "cell_type": "markdown",
   "id": "eceb407c",
   "metadata": {},
   "source": [
    "Dodatokw atrybut style przechowuje słownik mogący rozbudować atrybuty jednak wynikałoby z tego pojawienie się wielu NaN, oraz trudno porównać rozmiar szamponu i ubrania\n"
   ]
  },
  {
   "cell_type": "markdown",
   "id": "521ce2e9",
   "metadata": {},
   "source": [
    "Zmienna wyjściowa można interpretować jako zmienną numeryczną co może pomóc w szukaniu korelacji jednak nie jest to preferowane. Jest to zmienna dyskretna, która może przyjąć jedną z kilku wartości/ kategori. Ludzie nie myślą o produkcie 2/5 jako o dwa razy gorszym od 4/5. Ludzie mają wyuczone pewne interpretacje ocen w typowych skaklach oceniania (1-5, 1-10), które interpretują raczej w sposób opisowy. W jakijś książce czytałem, że przeskalowanie takich skal na dziwne skale np. od 47-73 całkowicie zaburzało postrzeganie oceny. Zaczęto otrzymywać odmienne rozkłady etc."
   ]
  },
  {
   "cell_type": "code",
   "execution_count": null,
   "id": "a7cc5021",
   "metadata": {},
   "outputs": [],
   "source": [
    "percent_na_counts = df_all.isna().sum() / len(df_all) * 100\n",
    "\n",
    "percent_na_counts = percent_na_counts.sort_values(ascending=False)\n",
    "print(\"procent brakujących wartośći\")\n",
    "print(percent_na_counts)"
   ]
  },
  {
   "cell_type": "code",
   "execution_count": null,
   "id": "45c6a894",
   "metadata": {},
   "outputs": [],
   "source": [
    "df_all.loc[df_all[\"vote\"] == \"0\"].head(1)"
   ]
  },
  {
   "cell_type": "code",
   "execution_count": null,
   "id": "c1cc832f",
   "metadata": {},
   "outputs": [],
   "source": [
    "df_all.loc[df_all[\"vote\"] == \"1\"].head(1)"
   ]
  },
  {
   "cell_type": "code",
   "execution_count": null,
   "id": "71eb3ed5",
   "metadata": {},
   "outputs": [],
   "source": [
    "(pd.to_numeric(df_all[\"vote\"], errors=\"coerce\") < 0).any()"
   ]
  },
  {
   "cell_type": "code",
   "execution_count": null,
   "id": "63f121cd",
   "metadata": {},
   "outputs": [],
   "source": [
    "# dopiero teraz isteniją rekordy z vote\n",
    "df_all.loc[df_all[\"vote\"] == \"2\"].head(1)"
   ]
  },
  {
   "cell_type": "markdown",
   "id": "99a00dde",
   "metadata": {},
   "source": [
    "Obrazki są dołączone tylko do 5% rekordów. Dodatkowym pytaniem jest ile z tych linków jest działających <br>\n",
    "Tylko 30% rekordów posiada \"vote\" możliwe, że, gdy vote = 0 było jednoznaczne z wpisaniem NaN, ponieważ brakuje wartośći 0. Brakuje jednak także wartośći 1, które zapewne też byłby liczne co utrudnia potwierdzenie tej hipotezy <br> Wydaje się niemożliwym uzupełnienie braków reviewText. Na szczęśnie jest ich niewiele. Można byłoby skupić się na badaniu summary, ponieważ jest ich więcej nie zawierają jednak tyle potencjalnych informacji. <br>\n",
    "Braki w numbers_amount wynikają z braków w reviewText <br>\n",
    "Isteniją braki w reviewerName jednka teoretycznie powinna być funkcja 1-1, która zastąpiłaby je reviewerID"
   ]
  },
  {
   "cell_type": "code",
   "execution_count": null,
   "id": "a53e5e42",
   "metadata": {},
   "outputs": [],
   "source": [
    "df_all_tmp = df_all.drop(\"style\", axis=1)\n",
    "df_all_tmp = df_all_tmp.drop(\"image\", axis=1)\n",
    "print(\n",
    "    \"Ogólnie jest duplikatów:\",\n",
    "    round((len(df_all_tmp) - len(df_all_tmp.drop_duplicates())) / len(df_all_tmp), 1),\n",
    "    \"%\",\n",
    ")"
   ]
  },
  {
   "cell_type": "markdown",
   "id": "9a134f2a",
   "metadata": {},
   "source": [
    "Możliwe, że pojawiają się obrazki jednym z dwóch duplikatów, albo dodatkowe informacje w style. Wymagalo dalszego zbadania"
   ]
  },
  {
   "cell_type": "code",
   "execution_count": null,
   "id": "c66f9ee2",
   "metadata": {},
   "outputs": [],
   "source": [
    "selected_columns = [\n",
    "    \"overall\",\n",
    "    \"verified\",\n",
    "    \"unixReviewTime\",\n",
    "    \"reviewTextLength\",\n",
    "    \"numbers_amount\",\n",
    "    \"vote\",\n",
    "]\n",
    "df_all_tmp[\"vote\"] = df_all_tmp[\"vote\"].str.replace(\",\", \".\").astype(float)\n",
    "df_all_numeric = df_all_tmp[selected_columns]\n",
    "df_all_numeric = df_all_numeric.drop_duplicates()\n",
    "corr = df_all_numeric.corr(numeric_only=False)\n",
    "\n",
    "sns.heatmap(corr, label=True, annot=True)"
   ]
  },
  {
   "cell_type": "markdown",
   "id": "97b03f55",
   "metadata": {},
   "source": [
    "Wydaj 3 największe korelacje: <br>\n",
    "numbers_amount:reviewTextLenght - wydaje się logicznym, że tym dłuższy tekst tym więcej liczb tam będzie <br>\n",
    "verified:unixReviewTime -  wydaje się logicznym, że tym starsza ocena tym większa szansa na weryfikację. Tutaj jednka ty więszky timeStamp tym większa szansa na weryfikacje co może świadczyć, że dopiero od niedawna zaczęto weryfikować i stare oceny nie są weryfikowane już <br>\n",
    "verified:reviewTextLength - chętniej są weryfikowane krótkie teksty"
   ]
  },
  {
   "cell_type": "markdown",
   "id": "fc46541a",
   "metadata": {},
   "source": [
    "Overall nie ma wysokiej korelacji z jakąkolwiek zmienną. Największa korelacja overall:verified może świadczyć, że częściej weryfikowane są wyższe oceny"
   ]
  },
  {
   "cell_type": "code",
   "execution_count": null,
   "id": "652076f8",
   "metadata": {},
   "outputs": [],
   "source": [
    "def standarize(df):\n",
    "    return (\n",
    "        StandardScaler().fit_transform(df.iloc[:, 0:-1].values),\n",
    "        df[\"overall\"].values,\n",
    "        df.columns,\n",
    "    )\n",
    "\n",
    "\n",
    "df_all_numeric = df_all_numeric.drop_duplicates()\n",
    "imputer = KNNImputer(n_neighbors=5)\n",
    "df_all_numeric = pd.DataFrame(\n",
    "    imputer.fit_transform(df_all_numeric), columns=df_all_numeric.columns\n",
    ")\n",
    "data_all_numeric_std = standarize(df_all_numeric)\n",
    "model = PCA(n_components=2)\n",
    "df_all_numeric_std = data_all_numeric_std[0]\n",
    "Y_pca = model.fit_transform(df_all_numeric_std)\n",
    "df_pca = pd.DataFrame(Y_pca, columns=(\"PCA1\", \"PCA2\"))\n",
    "df_pca[\"class\"] = data_all_numeric_std[1]\n",
    "sns.scatterplot(x=df_pca[\"PCA1\"], y=df_pca[\"PCA2\"], hue=df_pca[\"class\"])\n",
    "plt.show()"
   ]
  },
  {
   "cell_type": "markdown",
   "id": "e043e35c",
   "metadata": {},
   "source": [
    "Same zmienne numeryczne, posiadają  pewien potencjał widać wyraźnie, że dla dwóch komponentów PCA można już rozróźniać dobre i złe oceny"
   ]
  },
  {
   "cell_type": "code",
   "execution_count": null,
   "id": "fda03aba",
   "metadata": {},
   "outputs": [],
   "source": [
    "model_2 = PCA().fit(df_all_numeric_std)\n",
    "sns.lineplot(data=np.cumsum(model_2.explained_variance_ratio_))"
   ]
  },
  {
   "cell_type": "code",
   "execution_count": null,
   "id": "f2d4be80",
   "metadata": {},
   "outputs": [],
   "source": [
    "import string\n",
    "import nltk\n",
    "from collections import Counter\n",
    "\n",
    "nltk.download(\"stopwords\")\n",
    "text_column = df_all[\"reviewText\"]\n",
    "\n",
    "stop_words = nltk.corpus.stopwords.words(\"english\")\n",
    "text_column = text_column.str.lower().str.replace(\"[{}]\".format(string.punctuation), \"\")\n",
    "text_column = text_column.apply(\n",
    "    lambda x: \" \".join([word for word in str(x).split() if word not in stop_words])\n",
    ")\n",
    "\n",
    "words = \" \".join(text_column).split()\n",
    "word_freq = Counter(words)\n",
    "sorted_words = sorted(word_freq.items(), key=lambda x: x[1], reverse=True)\n",
    "top_words = sorted_words[:20]\n",
    "print(top_words)"
   ]
  },
  {
   "cell_type": "markdown",
   "id": "e0c766da",
   "metadata": {},
   "source": [
    "Łatwo rozpoznać słowa mogące świadczyć o sentymencie \"great\", 'well\", \"good\" możliwe, żę \"like\""
   ]
  },
  {
   "cell_type": "code",
   "execution_count": null,
   "id": "25015465",
   "metadata": {},
   "outputs": [],
   "source": [
    "df1 = df_all[df_all[\"overall\"] == 1]\n",
    "df2 = df_all[df_all[\"overall\"] == 2]\n",
    "df3 = df_all[df_all[\"overall\"] == 3]\n",
    "df4 = df_all[df_all[\"overall\"] == 4]\n",
    "df5 = df_all[df_all[\"overall\"] == 5]\n",
    "\n",
    "\n",
    "def word_frequency(df):\n",
    "    text_column = df[\"reviewText\"]\n",
    "    text_column = text_column.str.lower().str.replace(\n",
    "        \"[{}]\".format(string.punctuation), \"\"\n",
    "    )\n",
    "    text_column = text_column.apply(\n",
    "        lambda x: \" \".join([word for word in str(x).split() if word not in stop_words])\n",
    "    )\n",
    "    words = \" \".join(text_column).split()\n",
    "    word_freq = Counter(words)\n",
    "    return word_freq\n",
    "\n",
    "\n",
    "wf1 = word_frequency(df1)\n",
    "wf2 = word_frequency(df2)\n",
    "wf3 = word_frequency(df3)\n",
    "wf4 = word_frequency(df4)\n",
    "wf5 = word_frequency(df5)"
   ]
  },
  {
   "cell_type": "code",
   "execution_count": null,
   "id": "a5d6ea92",
   "metadata": {},
   "outputs": [],
   "source": [
    "def top_words(word_freq, n):\n",
    "    sorted_words = sorted(word_freq.items(), key=lambda x: x[1], reverse=True)\n",
    "    top_words = [w[0] for w in sorted_words[:n]]\n",
    "    return set(top_words)\n",
    "\n",
    "\n",
    "top_n = 30\n",
    "overall_words = {}\n",
    "overall_words[1] = top_words(wf1, top_n)\n",
    "overall_words[2] = top_words(wf2, top_n)\n",
    "overall_words[3] = top_words(wf3, top_n)\n",
    "overall_words[4] = top_words(wf4, top_n)\n",
    "overall_words[5] = top_words(wf5, top_n)\n",
    "\n",
    "print(\"Specyficzne słowa z top 30 najczęstszych dla najgorszch ocen\")\n",
    "print(overall_words[1] - overall_words[3] - overall_words[4] - overall_words[5])\n",
    "print(\"Specyficzne słowa z top 30 najczęstszych dla najlpeszych ocen\")\n",
    "print(overall_words[5] - overall_words[3] - overall_words[2] - overall_words[1])"
   ]
  },
  {
   "cell_type": "markdown",
   "id": "bdaf9fc2",
   "metadata": {},
   "source": [
    "Widać dużo jednoznacznie dobrych przymiotników przy ocenach = 5 <br>\n",
    "Przy ocench = 1 widać, że istnieją problemy w systemem microsofut vista lub 7 i w zmianach oprogramowania."
   ]
  },
  {
   "cell_type": "code",
   "execution_count": null,
   "id": "4fd31c8a",
   "metadata": {},
   "outputs": [],
   "source": [
    "text_length = df_all[\"reviewText\"].astype(str).apply(len)\n",
    "print(\"Całkowita długość tekstu: \", text_length.mean(), \"znaków\")\n",
    "print(\"Średnia długość tekstu: \", text_length.mean(), \"znaków\")\n",
    "print(\"Maksymalna długość tekstu: \", text_length.max(), \"znaków\")\n",
    "nltk.download(\"gutenberg\")\n",
    "nltk.download(\"punkt\")\n",
    "\n",
    "text = nltk.corpus.gutenberg.raw(\"melville-moby_dick.txt\")\n",
    "words = nltk.word_tokenize(text)\n",
    "non_unique_words = len(words) - len(set(words))\n",
    "\n",
    "print(\n",
    "    \"Co stanowi \",\n",
    "    round(text_length.max() / non_unique_words * 100, 1),\n",
    "    '% ksiązki \"Moby Dick\"',\n",
    ")\n",
    "print(\"Minimalna długość tekstu: \", text_length.min(), \"znaków\")\n",
    "# w sumie mogłęm wykorzystać kolumnę którą stworzyłem:p"
   ]
  },
  {
   "cell_type": "code",
   "execution_count": null,
   "id": "18c028ef",
   "metadata": {},
   "outputs": [],
   "source": [
    "import collections\n",
    "\n",
    "words = text_column.str.cat(sep=\" \").split()\n",
    "word_freq = collections.Counter(words)\n",
    "\n",
    "print(\"Liczba unikalnych słów: \", len(word_freq))\n",
    "print(\"W Panu Tadeuszu jest 2x więcej unikalnych słów\")"
   ]
  },
  {
   "cell_type": "code",
   "execution_count": null,
   "id": "fde937dc",
   "metadata": {},
   "outputs": [],
   "source": [
    "max_length_idx = df_all[\"reviewText\"].str.len().idxmax()\n",
    "max_length_row = df_all.loc[max_length_idx]\n",
    "\n",
    "print(\"Wiersz z maksymalną długością tekstu: \")\n",
    "print(max_length_row[\"reviewText\"])"
   ]
  },
  {
   "cell_type": "markdown",
   "id": "a64e6ce2",
   "metadata": {},
   "source": [
    "Należy przeprowadzić dogłebną anlizę reviewText oraz summary, mogą zawierać wiele dodatkowych przydatnych inforamcji pomagających ustalić overall. Należałoby również spróbować zamieć datę na zmienną kategoryczną mówiącą np. o okresach w roku (przed Świętami, wakacje, początek roku szkolnego) może pomogłoby to znaleźć powiązania. Także samo sprawdzenie, czy obecność zdjęcia/ ich ilość jak wpływa na overall. Połączenie tego z danymi numerycznymi może pomóc stowrzyć model klasyfikiacji o wysokim stopniu accuracy"
   ]
  }
 ],
 "metadata": {
  "kernelspec": {
   "display_name": "Python 3 (ipykernel)",
   "language": "python",
   "name": "python3"
  },
  "language_info": {
   "codemirror_mode": {
    "name": "ipython",
    "version": 3
   },
   "file_extension": ".py",
   "mimetype": "text/x-python",
   "name": "python",
   "nbconvert_exporter": "python",
   "pygments_lexer": "ipython3",
   "version": "3.10.12"
  },
  "toc": {
   "base_numbering": 1,
   "nav_menu": {},
   "number_sections": true,
   "sideBar": true,
   "skip_h1_title": false,
   "title_cell": "Table of Contents",
   "title_sidebar": "Contents",
   "toc_cell": false,
   "toc_position": {},
   "toc_section_display": true,
   "toc_window_display": false
  },
  "varInspector": {
   "cols": {
    "lenName": 16,
    "lenType": 16,
    "lenVar": 40
   },
   "kernels_config": {
    "python": {
     "delete_cmd_postfix": "",
     "delete_cmd_prefix": "del ",
     "library": "var_list.py",
     "varRefreshCmd": "print(var_dic_list())"
    },
    "r": {
     "delete_cmd_postfix": ") ",
     "delete_cmd_prefix": "rm(",
     "library": "var_list.r",
     "varRefreshCmd": "cat(var_dic_list()) "
    }
   },
   "oldHeight": 209.844,
   "position": {
    "height": "551.85px",
    "left": "527px",
    "right": "20px",
    "top": "76px",
    "width": "800px"
   },
   "types_to_exclude": [
    "module",
    "function",
    "builtin_function_or_method",
    "instance",
    "_Feature"
   ],
   "varInspector_section_display": "block",
   "window_display": false
  }
 },
 "nbformat": 4,
 "nbformat_minor": 5
}
